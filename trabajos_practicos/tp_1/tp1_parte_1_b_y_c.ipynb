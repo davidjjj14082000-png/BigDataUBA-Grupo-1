{
 "cells": [
  {
   "cell_type": "code",
   "execution_count": 43,
   "metadata": {
    "id": "tgNUhQjyvJ2R"
   },
   "outputs": [],
   "source": [
    "import requests\n",
    "import pandas as pd\n",
    "import matplotlib.pyplot as plt"
   ]
  },
  {
   "cell_type": "code",
   "execution_count": 44,
   "metadata": {
    "colab": {
     "base_uri": "https://localhost:8080/"
    },
    "id": "6dw8y2bdvKrQ",
    "outputId": "5a9e7685-9909-4500-b220-3e8b94d7f2e4"
   },
   "outputs": [
    {
     "name": "stdout",
     "output_type": "stream",
     "text": [
      "<Response [200]>\n"
     ]
    },
    {
     "data": {
      "text/plain": [
       "{'data': [['2004-01-01', 286559.25],\n",
       "  ['2005-01-01', 311114.5],\n",
       "  ['2006-01-01', 329183.0],\n",
       "  ['2007-01-01', 342965.25],\n",
       "  ['2008-01-01', 360261.0],\n",
       "  ['2009-01-01', 352861.5],\n",
       "  ['2010-01-01', 350904.25],\n",
       "  ['2011-01-01', 366448.5],\n",
       "  ['2012-01-01', 359730.25],\n",
       "  ['2013-01-01', 358468.75],\n",
       "  ['2014-01-01', 357823.5],\n",
       "  ['2015-01-01', 359569.25],\n",
       "  ['2016-01-01', 354412.0]],\n",
       " 'count': 13,\n",
       " 'meta': [{'frequency': 'year',\n",
       "   'start_date': '2004-01-01',\n",
       "   'end_date': '2016-01-01'},\n",
       "  {'catalog': {'title': 'Datos Programación Macroeconómica'},\n",
       "   'dataset': {'title': 'Empleo registrado del sector privado, por sector de actividad.',\n",
       "    'description': 'Empleo registrado del sector privado por sector de actividad. Cantidad de puestos de trabajo',\n",
       "    'issued': '2017-09-28',\n",
       "    'source': 'Secretaría de Trabajo, Empleo y Seguridad Social, Ministerio de Capital Humano'},\n",
       "   'distribution': {'title': 'Empleo registrado del sector privado por sector de actividad. Valores con estacionalidad',\n",
       "    'downloadURL': 'https://infra.datos.gob.ar/catalog/sspm/dataset/155/distribution/155.1/download/empleo-registrado-sector-privado-por-actividad-estacionalidad.csv'},\n",
       "   'field': {'description': 'Empleo registrado. Sector Privado. Agricultura, Ganadería y Pesca.',\n",
       "    'id': '155.1_ACULTURSCA_C_0_0_27',\n",
       "    'units': 'Puestos de trabajo',\n",
       "    'representation_mode': 'value',\n",
       "    'representation_mode_units': 'Puestos de trabajo'}}],\n",
       " 'params': {'collapse': 'year',\n",
       "  'collapse_aggregation': 'avg',\n",
       "  'end_date': '2016-01-01',\n",
       "  'ids': '155.1_ACULTURSCA_C_0_0_27',\n",
       "  'limit': '5000',\n",
       "  'start_date': '2004-01-01',\n",
       "  'format': 'json',\n",
       "  'identifiers': [{'id': '155.1_ACULTURSCA_C_0_0_27',\n",
       "    'distribution': '155.1',\n",
       "    'dataset': '155'}]}}"
      ]
     },
     "execution_count": 44,
     "metadata": {},
     "output_type": "execute_result"
    }
   ],
   "source": [
    "url_arg = \"https://apis.datos.gob.ar/series/api/series/?collapse=year&collapse_aggregation=avg&end_date=2016-01-01&ids=155.1_ACULTURSCA_C_0_0_27&limit=5000&start_date=2004-01-01&format=json\"\n",
    "response = requests.get(url_arg)\n",
    "print(response)\n",
    "\n",
    "datos = response.json()\n",
    "datos"
   ]
  },
  {
   "cell_type": "code",
   "execution_count": 45,
   "metadata": {
    "id": "mTdFPBT4vYay"
   },
   "outputs": [],
   "source": [
    "d  = datos['data']\n",
    "data_arg = pd.DataFrame(d)\n",
    "data_arg.columns = ['fecha', 'empleo registrado']"
   ]
  },
  {
   "cell_type": "code",
   "execution_count": 46,
   "metadata": {
    "colab": {
     "base_uri": "https://localhost:8080/",
     "height": 457
    },
    "id": "Q4-CN5HAviy7",
    "outputId": "53f71a34-3d04-4b34-d757-5c5788a09fb0"
   },
   "outputs": [
    {
     "data": {
      "text/html": [
       "<div>\n",
       "<style scoped>\n",
       "    .dataframe tbody tr th:only-of-type {\n",
       "        vertical-align: middle;\n",
       "    }\n",
       "\n",
       "    .dataframe tbody tr th {\n",
       "        vertical-align: top;\n",
       "    }\n",
       "\n",
       "    .dataframe thead th {\n",
       "        text-align: right;\n",
       "    }\n",
       "</style>\n",
       "<table border=\"1\" class=\"dataframe\">\n",
       "  <thead>\n",
       "    <tr style=\"text-align: right;\">\n",
       "      <th></th>\n",
       "      <th>fecha</th>\n",
       "      <th>empleo registrado</th>\n",
       "    </tr>\n",
       "  </thead>\n",
       "  <tbody>\n",
       "    <tr>\n",
       "      <th>0</th>\n",
       "      <td>2004-01-01</td>\n",
       "      <td>286559.25</td>\n",
       "    </tr>\n",
       "    <tr>\n",
       "      <th>1</th>\n",
       "      <td>2005-01-01</td>\n",
       "      <td>311114.50</td>\n",
       "    </tr>\n",
       "    <tr>\n",
       "      <th>2</th>\n",
       "      <td>2006-01-01</td>\n",
       "      <td>329183.00</td>\n",
       "    </tr>\n",
       "    <tr>\n",
       "      <th>3</th>\n",
       "      <td>2007-01-01</td>\n",
       "      <td>342965.25</td>\n",
       "    </tr>\n",
       "    <tr>\n",
       "      <th>4</th>\n",
       "      <td>2008-01-01</td>\n",
       "      <td>360261.00</td>\n",
       "    </tr>\n",
       "    <tr>\n",
       "      <th>5</th>\n",
       "      <td>2009-01-01</td>\n",
       "      <td>352861.50</td>\n",
       "    </tr>\n",
       "    <tr>\n",
       "      <th>6</th>\n",
       "      <td>2010-01-01</td>\n",
       "      <td>350904.25</td>\n",
       "    </tr>\n",
       "    <tr>\n",
       "      <th>7</th>\n",
       "      <td>2011-01-01</td>\n",
       "      <td>366448.50</td>\n",
       "    </tr>\n",
       "    <tr>\n",
       "      <th>8</th>\n",
       "      <td>2012-01-01</td>\n",
       "      <td>359730.25</td>\n",
       "    </tr>\n",
       "    <tr>\n",
       "      <th>9</th>\n",
       "      <td>2013-01-01</td>\n",
       "      <td>358468.75</td>\n",
       "    </tr>\n",
       "    <tr>\n",
       "      <th>10</th>\n",
       "      <td>2014-01-01</td>\n",
       "      <td>357823.50</td>\n",
       "    </tr>\n",
       "    <tr>\n",
       "      <th>11</th>\n",
       "      <td>2015-01-01</td>\n",
       "      <td>359569.25</td>\n",
       "    </tr>\n",
       "    <tr>\n",
       "      <th>12</th>\n",
       "      <td>2016-01-01</td>\n",
       "      <td>354412.00</td>\n",
       "    </tr>\n",
       "  </tbody>\n",
       "</table>\n",
       "</div>"
      ],
      "text/plain": [
       "         fecha  empleo registrado\n",
       "0   2004-01-01          286559.25\n",
       "1   2005-01-01          311114.50\n",
       "2   2006-01-01          329183.00\n",
       "3   2007-01-01          342965.25\n",
       "4   2008-01-01          360261.00\n",
       "5   2009-01-01          352861.50\n",
       "6   2010-01-01          350904.25\n",
       "7   2011-01-01          366448.50\n",
       "8   2012-01-01          359730.25\n",
       "9   2013-01-01          358468.75\n",
       "10  2014-01-01          357823.50\n",
       "11  2015-01-01          359569.25\n",
       "12  2016-01-01          354412.00"
      ]
     },
     "execution_count": 46,
     "metadata": {},
     "output_type": "execute_result"
    }
   ],
   "source": [
    "data_arg"
   ]
  },
  {
   "cell_type": "code",
   "execution_count": 48,
   "metadata": {
    "colab": {
     "base_uri": "https://localhost:8080/",
     "height": 511
    },
    "id": "TRRD8MNZ0lRV",
    "outputId": "52a2294b-cd65-4ed2-aa8a-38f052b59679"
   },
   "outputs": [
    {
     "data": {
      "image/png": "[encoded data removed]",
      "text/plain": [
       "<Figure size 640x480 with 1 Axes>"
      ]
     },
     "metadata": {},
     "output_type": "display_data"
    }
   ],
   "source": [
    "data_arg['fecha'] = pd.to_datetime(data_arg['fecha'])\n",
    "\n",
    "# Creamos la figura y los axes\n",
    "fig, ax = plt.subplots()  # Crear objetos\n",
    "\n",
    "# Definimos series\n",
    "ax.plot(data_arg['fecha'], data_arg['empleo registrado'], label=\"empleo registrado\", color = 'blue')\n",
    "\n",
    "# Modificamos labels y título\n",
    "ax.set_xlabel(\"año\")\n",
    "ax.set_title(\"Figura 1. Empleo registrado del sectorprivado agricola, ganadero y pesca\\n\" \"serie de 2004-2016\")\n",
    "\n",
    "# Configuramos las etiquetas del eje X para que solo muestren los meses de enero\n",
    "data_arg_january = data_arg[data_arg['fecha'].dt.month == 1]  # Filtramos solo los meses de enero\n",
    "ax.set_xticks(data_arg_january['fecha'])  # Establecemos los ticks solo en enero\n",
    "ax.set_xticklabels(data_arg_january['fecha'].dt.strftime('%Y-%m'))  # Mostramos solo el año y mes en formato 'YYYY-MM'\n",
    "plt.xticks(rotation=20)\n",
    "\n",
    "# Agregamos leyenda\n",
    "ax.legend()\n",
    "\n",
    "# Mostramos la figura\n",
    "plt.show()"
   ]
  },
  {
   "cell_type": "code",
   "execution_count": 49,
   "metadata": {
    "colab": {
     "base_uri": "https://localhost:8080/"
    },
    "id": "SJv3JV4NOxmP",
    "outputId": "037f3d87-10d8-47b6-b9ce-12c82acbab27"
   },
   "outputs": [
    {
     "name": "stdout",
     "output_type": "stream",
     "text": [
      "<Response [200]>\n"
     ]
    },
    {
     "data": {
      "text/plain": [
       "{'data': [['2004-01-01', 678.6955047617051],\n",
       "  ['2005-01-01', 756.855120599718],\n",
       "  ['2006-01-01', 901.6303968151637],\n",
       "  ['2007-01-01', 1083.0251538081318],\n",
       "  ['2008-01-01', 1376.1538313357714],\n",
       "  ['2009-01-01', 1628.7478922177827],\n",
       "  ['2010-01-01', 2062.6448871265634],\n",
       "  ['2011-01-01', 2660.7771633322623],\n",
       "  ['2012-01-01', 3454.9224293988364],\n",
       "  ['2013-01-01', 4390.282459819842],\n",
       "  ['2014-01-01', 5652.323349401536],\n",
       "  ['2015-01-01', 7473.33000035127],\n",
       "  ['2016-01-01', 10137.012535522566]],\n",
       " 'count': 13,\n",
       " 'meta': [{'frequency': 'year',\n",
       "   'start_date': '2004-01-01',\n",
       "   'end_date': '2016-01-01'},\n",
       "  {'catalog': {'title': 'Datos Programación Macroeconómica'},\n",
       "   'dataset': {'title': 'Remuneración neta por sector de actividad económica en el sector privado',\n",
       "    'description': 'Remuneración neta por sector de actividad económica en el sector privado. Promedio, en pesos',\n",
       "    'issued': '2017-11-13',\n",
       "    'source': 'Instituto Nacional de Estadística y Censos (INDEC)'},\n",
       "   'distribution': {'title': 'Remuneración neta por sector de actividad económica en el sector privado. Datos trimestrales.',\n",
       "    'downloadURL': 'https://infra.datos.gob.ar/catalog/sspm/dataset/328/distribution/328.2/download/remuneracion-neta-sector-actividad-economica-sector-privado.csv'},\n",
       "   'field': {'description': 'agricultura, ganadería, caza y silvicultura',\n",
       "    'id': '328.2_AGRI_GANADURA__32',\n",
       "    'units': 'Pesos',\n",
       "    'representation_mode': 'value',\n",
       "    'representation_mode_units': 'Pesos'}}],\n",
       " 'params': {'collapse': 'year',\n",
       "  'collapse_aggregation': 'avg',\n",
       "  'ids': '328.2_AGRI_GANADURA__32',\n",
       "  'limit': '5000',\n",
       "  'format': 'json',\n",
       "  'identifiers': [{'id': '328.2_AGRI_GANADURA__32',\n",
       "    'distribution': '328.2',\n",
       "    'dataset': '328'}]}}"
      ]
     },
     "execution_count": 49,
     "metadata": {},
     "output_type": "execute_result"
    }
   ],
   "source": [
    "url_arg1 = \"https://apis.datos.gob.ar/series/api/series/?collapse=year&collapse_aggregation=avg&ids=328.2_AGRI_GANADURA__32&limit=5000&format=json\"\n",
    "response1 = requests.get(url_arg1)\n",
    "print(response)\n",
    "\n",
    "datos1 = response1.json()\n",
    "datos1"
   ]
  },
  {
   "cell_type": "code",
   "execution_count": 50,
   "metadata": {
    "id": "FYZ-DTSvO7-4"
   },
   "outputs": [],
   "source": [
    "d1 = datos1['data']\n",
    "data_arg_1 = pd.DataFrame(d1)\n",
    "data_arg_1.columns = ['fecha', 'remuneracion']"
   ]
  },
  {
   "cell_type": "code",
   "execution_count": 51,
   "metadata": {
    "colab": {
     "base_uri": "https://localhost:8080/",
     "height": 457
    },
    "id": "g2SMI70HPQh5",
    "outputId": "460d0fa9-96b3-44b1-8984-6e998812e1dd"
   },
   "outputs": [
    {
     "data": {
      "text/html": [
       "<div>\n",
       "<style scoped>\n",
       "    .dataframe tbody tr th:only-of-type {\n",
       "        vertical-align: middle;\n",
       "    }\n",
       "\n",
       "    .dataframe tbody tr th {\n",
       "        vertical-align: top;\n",
       "    }\n",
       "\n",
       "    .dataframe thead th {\n",
       "        text-align: right;\n",
       "    }\n",
       "</style>\n",
       "<table border=\"1\" class=\"dataframe\">\n",
       "  <thead>\n",
       "    <tr style=\"text-align: right;\">\n",
       "      <th></th>\n",
       "      <th>fecha</th>\n",
       "      <th>remuneracion</th>\n",
       "    </tr>\n",
       "  </thead>\n",
       "  <tbody>\n",
       "    <tr>\n",
       "      <th>0</th>\n",
       "      <td>2004-01-01</td>\n",
       "      <td>678.695505</td>\n",
       "    </tr>\n",
       "    <tr>\n",
       "      <th>1</th>\n",
       "      <td>2005-01-01</td>\n",
       "      <td>756.855121</td>\n",
       "    </tr>\n",
       "    <tr>\n",
       "      <th>2</th>\n",
       "      <td>2006-01-01</td>\n",
       "      <td>901.630397</td>\n",
       "    </tr>\n",
       "    <tr>\n",
       "      <th>3</th>\n",
       "      <td>2007-01-01</td>\n",
       "      <td>1083.025154</td>\n",
       "    </tr>\n",
       "    <tr>\n",
       "      <th>4</th>\n",
       "      <td>2008-01-01</td>\n",
       "      <td>1376.153831</td>\n",
       "    </tr>\n",
       "    <tr>\n",
       "      <th>5</th>\n",
       "      <td>2009-01-01</td>\n",
       "      <td>1628.747892</td>\n",
       "    </tr>\n",
       "    <tr>\n",
       "      <th>6</th>\n",
       "      <td>2010-01-01</td>\n",
       "      <td>2062.644887</td>\n",
       "    </tr>\n",
       "    <tr>\n",
       "      <th>7</th>\n",
       "      <td>2011-01-01</td>\n",
       "      <td>2660.777163</td>\n",
       "    </tr>\n",
       "    <tr>\n",
       "      <th>8</th>\n",
       "      <td>2012-01-01</td>\n",
       "      <td>3454.922429</td>\n",
       "    </tr>\n",
       "    <tr>\n",
       "      <th>9</th>\n",
       "      <td>2013-01-01</td>\n",
       "      <td>4390.282460</td>\n",
       "    </tr>\n",
       "    <tr>\n",
       "      <th>10</th>\n",
       "      <td>2014-01-01</td>\n",
       "      <td>5652.323349</td>\n",
       "    </tr>\n",
       "    <tr>\n",
       "      <th>11</th>\n",
       "      <td>2015-01-01</td>\n",
       "      <td>7473.330000</td>\n",
       "    </tr>\n",
       "    <tr>\n",
       "      <th>12</th>\n",
       "      <td>2016-01-01</td>\n",
       "      <td>10137.012536</td>\n",
       "    </tr>\n",
       "  </tbody>\n",
       "</table>\n",
       "</div>"
      ],
      "text/plain": [
       "         fecha  remuneracion\n",
       "0   2004-01-01    678.695505\n",
       "1   2005-01-01    756.855121\n",
       "2   2006-01-01    901.630397\n",
       "3   2007-01-01   1083.025154\n",
       "4   2008-01-01   1376.153831\n",
       "5   2009-01-01   1628.747892\n",
       "6   2010-01-01   2062.644887\n",
       "7   2011-01-01   2660.777163\n",
       "8   2012-01-01   3454.922429\n",
       "9   2013-01-01   4390.282460\n",
       "10  2014-01-01   5652.323349\n",
       "11  2015-01-01   7473.330000\n",
       "12  2016-01-01  10137.012536"
      ]
     },
     "execution_count": 51,
     "metadata": {},
     "output_type": "execute_result"
    }
   ],
   "source": [
    "data_arg_1"
   ]
  },
  {
   "cell_type": "code",
   "execution_count": 52,
   "metadata": {
    "colab": {
     "base_uri": "https://localhost:8080/",
     "height": 511
    },
    "id": "sl6gslRbTp_G",
    "outputId": "2d490ba4-9e07-4ec6-a223-15c3e6a59859"
   },
   "outputs": [
    {
     "data": {
      "image/png": "[encoded data removed]",
      "text/plain": [
       "<Figure size 640x480 with 1 Axes>"
      ]
     },
     "metadata": {},
     "output_type": "display_data"
    }
   ],
   "source": [
    "data_arg_1['fecha'] = pd.to_datetime(data_arg_1['fecha'])\n",
    "\n",
    "# Creamos la figura y los axes\n",
    "fig, ax = plt.subplots()  # Crear objetos\n",
    "\n",
    "# Definimos series\n",
    "ax.plot(data_arg_1['fecha'], data_arg_1['remuneracion'], label=\"remuneracion\", color = 'blue')\n",
    "\n",
    "# Modificamos labels y título\n",
    "ax.set_xlabel(\"año\")\n",
    "ax.set_title(\"Figura 2. remuneracion neta de sector argicola, ganadera y caza\\n\" \"serie de 2004-2016\")\n",
    "\n",
    "# Configuramos las etiquetas del eje X para que solo muestren los meses de enero\n",
    "data_arg_january = data_arg_1[data_arg['fecha'].dt.month == 1]  # Filtramos solo los meses de enero\n",
    "ax.set_xticks(data_arg_january['fecha'])  # Establecemos los ticks solo en enero\n",
    "ax.set_xticklabels(data_arg_january['fecha'].dt.strftime('%Y-%m'))  # Mostramos solo el año y mes en formato 'YYYY-MM'\n",
    "plt.xticks(rotation=20)\n",
    "\n",
    "# Agregamos leyenda\n",
    "ax.legend()\n",
    "\n",
    "# Mostramos la figura\n",
    "plt.show()"
   ]
  },
  {
   "cell_type": "code",
   "execution_count": 55,
   "metadata": {},
   "outputs": [
    {
     "data": {
      "text/html": [
       "<div>\n",
       "<style scoped>\n",
       "    .dataframe tbody tr th:only-of-type {\n",
       "        vertical-align: middle;\n",
       "    }\n",
       "\n",
       "    .dataframe tbody tr th {\n",
       "        vertical-align: top;\n",
       "    }\n",
       "\n",
       "    .dataframe thead th {\n",
       "        text-align: right;\n",
       "    }\n",
       "</style>\n",
       "<table border=\"1\" class=\"dataframe\">\n",
       "  <thead>\n",
       "    <tr style=\"text-align: right;\">\n",
       "      <th></th>\n",
       "      <th>fecha</th>\n",
       "      <th>empleo registrado</th>\n",
       "      <th>remuneracion</th>\n",
       "    </tr>\n",
       "  </thead>\n",
       "  <tbody>\n",
       "    <tr>\n",
       "      <th>0</th>\n",
       "      <td>2004-01-01</td>\n",
       "      <td>286559.25</td>\n",
       "      <td>678.695505</td>\n",
       "    </tr>\n",
       "    <tr>\n",
       "      <th>1</th>\n",
       "      <td>2005-01-01</td>\n",
       "      <td>311114.50</td>\n",
       "      <td>756.855121</td>\n",
       "    </tr>\n",
       "    <tr>\n",
       "      <th>2</th>\n",
       "      <td>2006-01-01</td>\n",
       "      <td>329183.00</td>\n",
       "      <td>901.630397</td>\n",
       "    </tr>\n",
       "    <tr>\n",
       "      <th>3</th>\n",
       "      <td>2007-01-01</td>\n",
       "      <td>342965.25</td>\n",
       "      <td>1083.025154</td>\n",
       "    </tr>\n",
       "    <tr>\n",
       "      <th>4</th>\n",
       "      <td>2008-01-01</td>\n",
       "      <td>360261.00</td>\n",
       "      <td>1376.153831</td>\n",
       "    </tr>\n",
       "    <tr>\n",
       "      <th>5</th>\n",
       "      <td>2009-01-01</td>\n",
       "      <td>352861.50</td>\n",
       "      <td>1628.747892</td>\n",
       "    </tr>\n",
       "    <tr>\n",
       "      <th>6</th>\n",
       "      <td>2010-01-01</td>\n",
       "      <td>350904.25</td>\n",
       "      <td>2062.644887</td>\n",
       "    </tr>\n",
       "    <tr>\n",
       "      <th>7</th>\n",
       "      <td>2011-01-01</td>\n",
       "      <td>366448.50</td>\n",
       "      <td>2660.777163</td>\n",
       "    </tr>\n",
       "    <tr>\n",
       "      <th>8</th>\n",
       "      <td>2012-01-01</td>\n",
       "      <td>359730.25</td>\n",
       "      <td>3454.922429</td>\n",
       "    </tr>\n",
       "    <tr>\n",
       "      <th>9</th>\n",
       "      <td>2013-01-01</td>\n",
       "      <td>358468.75</td>\n",
       "      <td>4390.282460</td>\n",
       "    </tr>\n",
       "    <tr>\n",
       "      <th>10</th>\n",
       "      <td>2014-01-01</td>\n",
       "      <td>357823.50</td>\n",
       "      <td>5652.323349</td>\n",
       "    </tr>\n",
       "    <tr>\n",
       "      <th>11</th>\n",
       "      <td>2015-01-01</td>\n",
       "      <td>359569.25</td>\n",
       "      <td>7473.330000</td>\n",
       "    </tr>\n",
       "    <tr>\n",
       "      <th>12</th>\n",
       "      <td>2016-01-01</td>\n",
       "      <td>354412.00</td>\n",
       "      <td>10137.012536</td>\n",
       "    </tr>\n",
       "  </tbody>\n",
       "</table>\n",
       "</div>"
      ],
      "text/plain": [
       "        fecha  empleo registrado  remuneracion\n",
       "0  2004-01-01          286559.25    678.695505\n",
       "1  2005-01-01          311114.50    756.855121\n",
       "2  2006-01-01          329183.00    901.630397\n",
       "3  2007-01-01          342965.25   1083.025154\n",
       "4  2008-01-01          360261.00   1376.153831\n",
       "5  2009-01-01          352861.50   1628.747892\n",
       "6  2010-01-01          350904.25   2062.644887\n",
       "7  2011-01-01          366448.50   2660.777163\n",
       "8  2012-01-01          359730.25   3454.922429\n",
       "9  2013-01-01          358468.75   4390.282460\n",
       "10 2014-01-01          357823.50   5652.323349\n",
       "11 2015-01-01          359569.25   7473.330000\n",
       "12 2016-01-01          354412.00  10137.012536"
      ]
     },
     "execution_count": 55,
     "metadata": {},
     "output_type": "execute_result"
    }
   ],
   "source": [
    "# Realizamos la unión de las 2 series temporales en un unico dataframe, a partir de la coincidencia de la columna de fecha entre ambas series\n",
    "data_merge = data_arg.merge(data_arg_1, on=data_arg_1.columns[0], how='left')\n",
    "data_merge"
   ]
  },
  {
   "cell_type": "code",
   "execution_count": 63,
   "metadata": {},
   "outputs": [
    {
     "name": "stdout",
     "output_type": "stream",
     "text": [
      "       empleo registrado  remuneracion\n",
      "count              13.00         13.00\n",
      "mean           345407.77       3250.49\n",
      "std             23218.14       2934.22\n",
      "min            286559.25        678.70\n",
      "25%            342965.25       1083.03\n",
      "50%            354412.00       2062.64\n",
      "75%            359569.25       4390.28\n",
      "max            366448.50      10137.01\n"
     ]
    }
   ],
   "source": [
    "# Realizamos la tabla descriptiva unicamente de las 2 variables que interesan (no la fecha). Redondeamos los decimales a 2\n",
    "summary = data_merge[['empleo registrado', 'remuneracion']].describe().round(2)\n",
    "print(summary)"
   ]
  },
  {
   "cell_type": "code",
   "execution_count": null,
   "metadata": {},
   "outputs": [],
   "source": []
  }
 ],
 "metadata": {
  "colab": {
   "provenance": []
  },
  "kernelspec": {
   "display_name": "Python [conda env:base] *",
   "language": "python",
   "name": "conda-base-py"
  },
  "language_info": {
   "codemirror_mode": {
    "name": "ipython",
    "version": 3
   },
   "file_extension": ".py",
   "mimetype": "text/x-python",
   "name": "python",
   "nbconvert_exporter": "python",
   "pygments_lexer": "ipython3",
   "version": "3.13.5"
  }
 },
 "nbformat": 4,
 "nbformat_minor": 4
}
