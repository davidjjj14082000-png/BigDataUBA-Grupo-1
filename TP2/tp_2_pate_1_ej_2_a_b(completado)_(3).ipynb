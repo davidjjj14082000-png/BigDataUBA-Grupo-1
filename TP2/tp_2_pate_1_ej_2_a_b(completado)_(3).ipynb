{
 "cells": [
  {
   "cell_type": "markdown",
   "metadata": {
    "id": "GeGedgjEVqEj"
   },
   "source": [
    "##Parte 1\n",
    "\n",
    "\n",
    "\n",
    "\n",
    "\n",
    "\n",
    "\n"
   ]
  },
  {
   "cell_type": "markdown",
   "metadata": {
    "id": "3uinNEYCWnwJ"
   },
   "source": [
    "###ejercicio 2"
   ]
  },
  {
   "cell_type": "markdown",
   "metadata": {
    "id": "txpLlNRgq6Jb"
   },
   "source": [
    "####A"
   ]
  },
  {
   "cell_type": "code",
   "execution_count": 32,
   "metadata": {
    "id": "iJKDnyIfzT-x"
   },
   "outputs": [],
   "source": [
    "#prmero importamos lo necesario\n",
    "import pandas as pd\n",
    "import os"
   ]
  },
  {
   "cell_type": "code",
   "execution_count": 33,
   "metadata": {
    "id": "JAdX-Hd6S9iO"
   },
   "outputs": [],
   "source": [
    "#os.chdir(r\"C:\\Users\\ADOLFO\\Documents\\GitHub\\BigDataUBA-Grupo-1\\TP2\")"
   ]
  },
  {
   "cell_type": "code",
   "execution_count": 34,
   "metadata": {
    "id": "btwFR7r7ZfnR"
   },
   "outputs": [],
   "source": [
    "# Cargamos las 2 eph\n",
    "df_1= pd.read_stata(\"usu_individual_T105.dta\")\n",
    "df_2 = pd.read_excel(\"usu_individual_T125.xlsx\")"
   ]
  },
  {
   "cell_type": "code",
   "execution_count": 35,
   "metadata": {
    "id": "G_7ZrWnZbMm1"
   },
   "outputs": [],
   "source": [
    "#creamos una copia\n",
    "df_1_a= df_1.copy()\n",
    "df_2_a= df_2.copy()"
   ]
  },
  {
   "cell_type": "code",
   "execution_count": 36,
   "metadata": {
    "colab": {
     "base_uri": "https://localhost:8080/"
    },
    "id": "vhERCEkWkYD8",
    "outputId": "d27dbc83-3d9c-4086-b131-a6ede40e047a"
   },
   "outputs": [
    {
     "name": "stderr",
     "output_type": "stream",
     "text": [
      "C:\\Users\\ADOLFO\\AppData\\Local\\Temp\\ipykernel_3824\\3455944364.py:2: FutureWarning: The behavior of Series.replace (and DataFrame.replace) with CategoricalDtype is deprecated. In a future version, replace will only be used for cases that preserve the categories. To change the categories, use ser.cat.rename_categories instead.\n",
      "  df_1_a[\"region\"] = df_1_a[\"region\"].replace({\"Gran Buenos Aires\":1})\n",
      "C:\\Users\\ADOLFO\\AppData\\Local\\Temp\\ipykernel_3824\\3455944364.py:3: FutureWarning: Downcasting behavior in `replace` is deprecated and will be removed in a future version. To retain the old behavior, explicitly call `result.infer_objects(copy=False)`. To opt-in to the future behavior, set `pd.set_option('future.no_silent_downcasting', True)`\n",
      "  df_1_a[\"ch04\"] = df_1_a[\"ch04\"].replace({\"Varón\":1,\"Mujer\":2})\n",
      "C:\\Users\\ADOLFO\\AppData\\Local\\Temp\\ipykernel_3824\\3455944364.py:3: FutureWarning: The behavior of Series.replace (and DataFrame.replace) with CategoricalDtype is deprecated. In a future version, replace will only be used for cases that preserve the categories. To change the categories, use ser.cat.rename_categories instead.\n",
      "  df_1_a[\"ch04\"] = df_1_a[\"ch04\"].replace({\"Varón\":1,\"Mujer\":2})\n",
      "C:\\Users\\ADOLFO\\AppData\\Local\\Temp\\ipykernel_3824\\3455944364.py:4: FutureWarning: Downcasting behavior in `replace` is deprecated and will be removed in a future version. To retain the old behavior, explicitly call `result.infer_objects(copy=False)`. To opt-in to the future behavior, set `pd.set_option('future.no_silent_downcasting', True)`\n",
      "  df_1_a[\"ch06\"] = df_1_a[\"ch06\"].replace({\"Menos de 1 año\":-1,\"98 y más años\":98})\n",
      "C:\\Users\\ADOLFO\\AppData\\Local\\Temp\\ipykernel_3824\\3455944364.py:4: FutureWarning: The behavior of Series.replace (and DataFrame.replace) with CategoricalDtype is deprecated. In a future version, replace will only be used for cases that preserve the categories. To change the categories, use ser.cat.rename_categories instead.\n",
      "  df_1_a[\"ch06\"] = df_1_a[\"ch06\"].replace({\"Menos de 1 año\":-1,\"98 y más años\":98})\n",
      "C:\\Users\\ADOLFO\\AppData\\Local\\Temp\\ipykernel_3824\\3455944364.py:5: FutureWarning: Downcasting behavior in `replace` is deprecated and will be removed in a future version. To retain the old behavior, explicitly call `result.infer_objects(copy=False)`. To opt-in to the future behavior, set `pd.set_option('future.no_silent_downcasting', True)`\n",
      "  df_1_a[\"ch07\"] = df_1_a[\"ch07\"].replace({\"Unido\":1,\"Casado\":2,\"Separado o divorciado\":3,\"Viudo\":4,\"Soltero\":5,\"Ns./Nr.\":0})\n",
      "C:\\Users\\ADOLFO\\AppData\\Local\\Temp\\ipykernel_3824\\3455944364.py:5: FutureWarning: The behavior of Series.replace (and DataFrame.replace) with CategoricalDtype is deprecated. In a future version, replace will only be used for cases that preserve the categories. To change the categories, use ser.cat.rename_categories instead.\n",
      "  df_1_a[\"ch07\"] = df_1_a[\"ch07\"].replace({\"Unido\":1,\"Casado\":2,\"Separado o divorciado\":3,\"Viudo\":4,\"Soltero\":5,\"Ns./Nr.\":0})\n",
      "C:\\Users\\ADOLFO\\AppData\\Local\\Temp\\ipykernel_3824\\3455944364.py:6: FutureWarning: Downcasting behavior in `replace` is deprecated and will be removed in a future version. To retain the old behavior, explicitly call `result.infer_objects(copy=False)`. To opt-in to the future behavior, set `pd.set_option('future.no_silent_downcasting', True)`\n",
      "  df_1_a[\"ch08\"] = df_1_a[\"ch08\"].replace({\"Obra social (incluye PAMI)\":1,\"Mutual/Prepaga/Servicio de emergencia\":2,\"Planes y seguros públicos\":3,\"No paga ni le descuentan\":4,\n",
      "C:\\Users\\ADOLFO\\AppData\\Local\\Temp\\ipykernel_3824\\3455944364.py:6: FutureWarning: The behavior of Series.replace (and DataFrame.replace) with CategoricalDtype is deprecated. In a future version, replace will only be used for cases that preserve the categories. To change the categories, use ser.cat.rename_categories instead.\n",
      "  df_1_a[\"ch08\"] = df_1_a[\"ch08\"].replace({\"Obra social (incluye PAMI)\":1,\"Mutual/Prepaga/Servicio de emergencia\":2,\"Planes y seguros públicos\":3,\"No paga ni le descuentan\":4,\n",
      "C:\\Users\\ADOLFO\\AppData\\Local\\Temp\\ipykernel_3824\\3455944364.py:10: FutureWarning: Downcasting behavior in `replace` is deprecated and will be removed in a future version. To retain the old behavior, explicitly call `result.infer_objects(copy=False)`. To opt-in to the future behavior, set `pd.set_option('future.no_silent_downcasting', True)`\n",
      "  df_1_a[\"nivel_ed\"] = df_1_a[\"nivel_ed\"].replace({\"Primaria Incompleta (incluye educación especial)\":1,\"Primaria Completa\":2,\"Secundaria Incompleta\":3,\"Secundaria Completa\":4,\n",
      "C:\\Users\\ADOLFO\\AppData\\Local\\Temp\\ipykernel_3824\\3455944364.py:10: FutureWarning: The behavior of Series.replace (and DataFrame.replace) with CategoricalDtype is deprecated. In a future version, replace will only be used for cases that preserve the categories. To change the categories, use ser.cat.rename_categories instead.\n",
      "  df_1_a[\"nivel_ed\"] = df_1_a[\"nivel_ed\"].replace({\"Primaria Incompleta (incluye educación especial)\":1,\"Primaria Completa\":2,\"Secundaria Incompleta\":3,\"Secundaria Completa\":4,\n",
      "C:\\Users\\ADOLFO\\AppData\\Local\\Temp\\ipykernel_3824\\3455944364.py:12: FutureWarning: Downcasting behavior in `replace` is deprecated and will be removed in a future version. To retain the old behavior, explicitly call `result.infer_objects(copy=False)`. To opt-in to the future behavior, set `pd.set_option('future.no_silent_downcasting', True)`\n",
      "  df_1_a[\"estado\"] = df_1_a[\"estado\"].replace({\"Entrevista individual no realizada (no respuesta al cuestion\":0,\"Ocupado\":1,\"Desocupado\":2,\"Inactivo\":3,\"Menor de 10 años\":4})\n",
      "C:\\Users\\ADOLFO\\AppData\\Local\\Temp\\ipykernel_3824\\3455944364.py:12: FutureWarning: The behavior of Series.replace (and DataFrame.replace) with CategoricalDtype is deprecated. In a future version, replace will only be used for cases that preserve the categories. To change the categories, use ser.cat.rename_categories instead.\n",
      "  df_1_a[\"estado\"] = df_1_a[\"estado\"].replace({\"Entrevista individual no realizada (no respuesta al cuestion\":0,\"Ocupado\":1,\"Desocupado\":2,\"Inactivo\":3,\"Menor de 10 años\":4})\n",
      "C:\\Users\\ADOLFO\\AppData\\Local\\Temp\\ipykernel_3824\\3455944364.py:13: FutureWarning: Downcasting behavior in `replace` is deprecated and will be removed in a future version. To retain the old behavior, explicitly call `result.infer_objects(copy=False)`. To opt-in to the future behavior, set `pd.set_option('future.no_silent_downcasting', True)`\n",
      "  df_1_a[\"cat_inac\"] = df_1_a[\"cat_inac\"].replace({\"Jubilado/pensionado\":1,\"Rentista\":2,\"Estudiante\":3,\"Ama de casa\":4,\"Menor de 6 años\":5,\"Discapacitado\":6,\"Otros\":7})\n",
      "C:\\Users\\ADOLFO\\AppData\\Local\\Temp\\ipykernel_3824\\3455944364.py:13: FutureWarning: The behavior of Series.replace (and DataFrame.replace) with CategoricalDtype is deprecated. In a future version, replace will only be used for cases that preserve the categories. To change the categories, use ser.cat.rename_categories instead.\n",
      "  df_1_a[\"cat_inac\"] = df_1_a[\"cat_inac\"].replace({\"Jubilado/pensionado\":1,\"Rentista\":2,\"Estudiante\":3,\"Ama de casa\":4,\"Menor de 6 años\":5,\"Discapacitado\":6,\"Otros\":7})\n",
      "C:\\Users\\ADOLFO\\AppData\\Local\\Temp\\ipykernel_3824\\3455944364.py:14: FutureWarning: Downcasting behavior in `replace` is deprecated and will be removed in a future version. To retain the old behavior, explicitly call `result.infer_objects(copy=False)`. To opt-in to the future behavior, set `pd.set_option('future.no_silent_downcasting', True)`\n",
      "  df_1_a[\"pp10a\"] = df_1_a[\"pp10a\"].replace({\"...menos de 1 mes?\":1,\"...de 1 a 3 meses?\":2,\"...más de 3 a 6 meses?\":3,\"...más de 6 a 12 meses?\":4,\"...más de 1 año?\":5})\n",
      "C:\\Users\\ADOLFO\\AppData\\Local\\Temp\\ipykernel_3824\\3455944364.py:14: FutureWarning: The behavior of Series.replace (and DataFrame.replace) with CategoricalDtype is deprecated. In a future version, replace will only be used for cases that preserve the categories. To change the categories, use ser.cat.rename_categories instead.\n",
      "  df_1_a[\"pp10a\"] = df_1_a[\"pp10a\"].replace({\"...menos de 1 mes?\":1,\"...de 1 a 3 meses?\":2,\"...más de 3 a 6 meses?\":3,\"...más de 6 a 12 meses?\":4,\"...más de 1 año?\":5})\n",
      "C:\\Users\\ADOLFO\\AppData\\Local\\Temp\\ipykernel_3824\\3455944364.py:15: FutureWarning: Downcasting behavior in `replace` is deprecated and will be removed in a future version. To retain the old behavior, explicitly call `result.infer_objects(copy=False)`. To opt-in to the future behavior, set `pd.set_option('future.no_silent_downcasting', True)`\n",
      "  df_1_a[\"pp03j\"] = df_1_a[\"pp03j\"].replace({\"Sí\":1,\"No\":2,\"Ns./Nr.\":9})\n",
      "C:\\Users\\ADOLFO\\AppData\\Local\\Temp\\ipykernel_3824\\3455944364.py:15: FutureWarning: The behavior of Series.replace (and DataFrame.replace) with CategoricalDtype is deprecated. In a future version, replace will only be used for cases that preserve the categories. To change the categories, use ser.cat.rename_categories instead.\n",
      "  df_1_a[\"pp03j\"] = df_1_a[\"pp03j\"].replace({\"Sí\":1,\"No\":2,\"Ns./Nr.\":9})\n",
      "C:\\Users\\ADOLFO\\AppData\\Local\\Temp\\ipykernel_3824\\3455944364.py:16: FutureWarning: Downcasting behavior in `replace` is deprecated and will be removed in a future version. To retain the old behavior, explicitly call `result.infer_objects(copy=False)`. To opt-in to the future behavior, set `pd.set_option('future.no_silent_downcasting', True)`\n",
      "  df_1_a[\"pp04a\"] = df_1_a[\"pp04a\"].replace({\"...estatal?\":1,\"...privada?\":2,\"...de otro tipo? (especificar)\":3,\"Ns./Nr.\":0})\n",
      "C:\\Users\\ADOLFO\\AppData\\Local\\Temp\\ipykernel_3824\\3455944364.py:16: FutureWarning: The behavior of Series.replace (and DataFrame.replace) with CategoricalDtype is deprecated. In a future version, replace will only be used for cases that preserve the categories. To change the categories, use ser.cat.rename_categories instead.\n",
      "  df_1_a[\"pp04a\"] = df_1_a[\"pp04a\"].replace({\"...estatal?\":1,\"...privada?\":2,\"...de otro tipo? (especificar)\":3,\"Ns./Nr.\":0})\n"
     ]
    }
   ],
   "source": [
    "# Reemplazamos variables categroricas en texto por numero\n",
    "df_1_a[\"region\"] = df_1_a[\"region\"].replace({\"Gran Buenos Aires\":1})\n",
    "df_1_a[\"ch04\"] = df_1_a[\"ch04\"].replace({\"Varón\":1,\"Mujer\":2})\n",
    "df_1_a[\"ch06\"] = df_1_a[\"ch06\"].replace({\"Menos de 1 año\":-1,\"98 y más años\":98})\n",
    "df_1_a[\"ch07\"] = df_1_a[\"ch07\"].replace({\"Unido\":1,\"Casado\":2,\"Separado o divorciado\":3,\"Viudo\":4,\"Soltero\":5,\"Ns./Nr.\":0})\n",
    "df_1_a[\"ch08\"] = df_1_a[\"ch08\"].replace({\"Obra social (incluye PAMI)\":1,\"Mutual/Prepaga/Servicio de emergencia\":2,\"Planes y seguros públicos\":3,\"No paga ni le descuentan\":4,\n",
    "                                         \"Ns./Nr.\":9,\"Obra social y mutual/prepaga/servicio de emergencia\":12,\"Obra social y planes y seguros públicos\":13,\n",
    "                                         \"Mutual/prepaga/servicio de emergencia/planes y seguros públi\":23,\n",
    "                                         \"Obra social, mutual/prepaga/servicio de emergencia y planes\":123})\n",
    "df_1_a[\"nivel_ed\"] = df_1_a[\"nivel_ed\"].replace({\"Primaria Incompleta (incluye educación especial)\":1,\"Primaria Completa\":2,\"Secundaria Incompleta\":3,\"Secundaria Completa\":4,\n",
    "                                                 \"Superior Universitaria Incompleta\":5,\"Superior Universitaria Completa\":6,\"Sin instrucción\":7,\"Ns./ Nr.\":9})\n",
    "df_1_a[\"estado\"] = df_1_a[\"estado\"].replace({\"Entrevista individual no realizada (no respuesta al cuestion\":0,\"Ocupado\":1,\"Desocupado\":2,\"Inactivo\":3,\"Menor de 10 años\":4})\n",
    "df_1_a[\"cat_inac\"] = df_1_a[\"cat_inac\"].replace({\"Jubilado/pensionado\":1,\"Rentista\":2,\"Estudiante\":3,\"Ama de casa\":4,\"Menor de 6 años\":5,\"Discapacitado\":6,\"Otros\":7})\n",
    "df_1_a[\"pp10a\"] = df_1_a[\"pp10a\"].replace({\"...menos de 1 mes?\":1,\"...de 1 a 3 meses?\":2,\"...más de 3 a 6 meses?\":3,\"...más de 6 a 12 meses?\":4,\"...más de 1 año?\":5})\n",
    "df_1_a[\"pp03j\"] = df_1_a[\"pp03j\"].replace({\"Sí\":1,\"No\":2,\"Ns./Nr.\":9})\n",
    "df_1_a[\"pp04a\"] = df_1_a[\"pp04a\"].replace({\"...estatal?\":1,\"...privada?\":2,\"...de otro tipo? (especificar)\":3,\"Ns./Nr.\":0})\n",
    "   #df_2\n",
    "df_2_a[\"PP10A\"] = df_2_a[\"PP10A\"].fillna(0)\n",
    "df_2_a[\"PP03J\"] = df_2_a[\"PP03J\"].fillna(9)\n",
    "df_2_a[\"PP04A\"] = df_2_a[\"PP04A\"].fillna(0)\n",
    "df_2_a[\"P47T\"] = df_2_a[\"P47T\"].fillna(-9)\n"
   ]
  },
  {
   "cell_type": "code",
   "execution_count": 37,
   "metadata": {
    "id": "ke1rM2mpINHf"
   },
   "outputs": [],
   "source": [
    "# En el primero df tenemos los nombres en minuscula, por lo cual primero renombramos las columnas de interes a mayuscula\n",
    "df_1_a1=df_1_a.copy() #para no alterar la celda anterior al cambiar los nombres\n",
    "df_1_a1.columns = df_1_a1.columns.str.upper()"
   ]
  },
  {
   "cell_type": "code",
   "execution_count": 38,
   "metadata": {
    "colab": {
     "base_uri": "https://localhost:8080/",
     "height": 704
    },
    "id": "ppCvnnm0mtXG",
    "outputId": "f4a9b45f-7927-439c-f853-75190b5971e2"
   },
   "outputs": [
    {
     "data": {
      "text/html": [
       "<div>\n",
       "<style scoped>\n",
       "    .dataframe tbody tr th:only-of-type {\n",
       "        vertical-align: middle;\n",
       "    }\n",
       "\n",
       "    .dataframe tbody tr th {\n",
       "        vertical-align: top;\n",
       "    }\n",
       "\n",
       "    .dataframe thead th {\n",
       "        text-align: right;\n",
       "    }\n",
       "</style>\n",
       "<table border=\"1\" class=\"dataframe\">\n",
       "  <thead>\n",
       "    <tr style=\"text-align: right;\">\n",
       "      <th></th>\n",
       "      <th>CODUSU</th>\n",
       "      <th>NRO_HOGAR</th>\n",
       "      <th>COMPONENTE</th>\n",
       "      <th>H15</th>\n",
       "      <th>ANO4</th>\n",
       "      <th>TRIMESTRE</th>\n",
       "      <th>REGION</th>\n",
       "      <th>MAS_500</th>\n",
       "      <th>AGLOMERADO</th>\n",
       "      <th>PONDERA</th>\n",
       "      <th>...</th>\n",
       "      <th>DECCFR</th>\n",
       "      <th>IDECCFR</th>\n",
       "      <th>RDECCFR</th>\n",
       "      <th>GDECCFR</th>\n",
       "      <th>PDECCFR</th>\n",
       "      <th>ADECCFR</th>\n",
       "      <th>PJ1_1</th>\n",
       "      <th>PJ2_1</th>\n",
       "      <th>PJ3_1</th>\n",
       "      <th>IDIMPP</th>\n",
       "    </tr>\n",
       "  </thead>\n",
       "  <tbody>\n",
       "    <tr>\n",
       "      <th>0</th>\n",
       "      <td>125098</td>\n",
       "      <td>1.0</td>\n",
       "      <td>1.0</td>\n",
       "      <td>Sí</td>\n",
       "      <td>2005.0</td>\n",
       "      <td>1er. Trimestre</td>\n",
       "      <td>1</td>\n",
       "      <td>S</td>\n",
       "      <td>Ciudad de Buenos Aires</td>\n",
       "      <td>1017.0</td>\n",
       "      <td>...</td>\n",
       "      <td>08</td>\n",
       "      <td></td>\n",
       "      <td>07</td>\n",
       "      <td>08</td>\n",
       "      <td></td>\n",
       "      <td>05</td>\n",
       "      <td>0.0</td>\n",
       "      <td>0.0</td>\n",
       "      <td>0.0</td>\n",
       "      <td>00000</td>\n",
       "    </tr>\n",
       "    <tr>\n",
       "      <th>1</th>\n",
       "      <td>125188</td>\n",
       "      <td>1.0</td>\n",
       "      <td>1.0</td>\n",
       "      <td>Sí</td>\n",
       "      <td>2005.0</td>\n",
       "      <td>1er. Trimestre</td>\n",
       "      <td>1</td>\n",
       "      <td>S</td>\n",
       "      <td>Ciudad de Buenos Aires</td>\n",
       "      <td>1062.0</td>\n",
       "      <td>...</td>\n",
       "      <td>02</td>\n",
       "      <td></td>\n",
       "      <td>02</td>\n",
       "      <td>02</td>\n",
       "      <td></td>\n",
       "      <td>01</td>\n",
       "      <td>0.0</td>\n",
       "      <td>0.0</td>\n",
       "      <td>0.0</td>\n",
       "      <td>40020</td>\n",
       "    </tr>\n",
       "    <tr>\n",
       "      <th>2</th>\n",
       "      <td>125188</td>\n",
       "      <td>1.0</td>\n",
       "      <td>2.0</td>\n",
       "      <td>Sí</td>\n",
       "      <td>2005.0</td>\n",
       "      <td>1er. Trimestre</td>\n",
       "      <td>1</td>\n",
       "      <td>S</td>\n",
       "      <td>Ciudad de Buenos Aires</td>\n",
       "      <td>1062.0</td>\n",
       "      <td>...</td>\n",
       "      <td>02</td>\n",
       "      <td></td>\n",
       "      <td>02</td>\n",
       "      <td>02</td>\n",
       "      <td></td>\n",
       "      <td>01</td>\n",
       "      <td>0.0</td>\n",
       "      <td>0.0</td>\n",
       "      <td>0.0</td>\n",
       "      <td>00000</td>\n",
       "    </tr>\n",
       "    <tr>\n",
       "      <th>3</th>\n",
       "      <td>125188</td>\n",
       "      <td>1.0</td>\n",
       "      <td>3.0</td>\n",
       "      <td>0.0</td>\n",
       "      <td>2005.0</td>\n",
       "      <td>1er. Trimestre</td>\n",
       "      <td>1</td>\n",
       "      <td>S</td>\n",
       "      <td>Ciudad de Buenos Aires</td>\n",
       "      <td>1062.0</td>\n",
       "      <td>...</td>\n",
       "      <td>02</td>\n",
       "      <td></td>\n",
       "      <td>02</td>\n",
       "      <td>02</td>\n",
       "      <td></td>\n",
       "      <td>01</td>\n",
       "      <td>0.0</td>\n",
       "      <td>0.0</td>\n",
       "      <td>0.0</td>\n",
       "      <td>00000</td>\n",
       "    </tr>\n",
       "    <tr>\n",
       "      <th>4</th>\n",
       "      <td>125242</td>\n",
       "      <td>1.0</td>\n",
       "      <td>1.0</td>\n",
       "      <td>Sí</td>\n",
       "      <td>2005.0</td>\n",
       "      <td>1er. Trimestre</td>\n",
       "      <td>1</td>\n",
       "      <td>S</td>\n",
       "      <td>Ciudad de Buenos Aires</td>\n",
       "      <td>1103.0</td>\n",
       "      <td>...</td>\n",
       "      <td>09</td>\n",
       "      <td></td>\n",
       "      <td>09</td>\n",
       "      <td>09</td>\n",
       "      <td></td>\n",
       "      <td>07</td>\n",
       "      <td>0.0</td>\n",
       "      <td>0.0</td>\n",
       "      <td>0.0</td>\n",
       "      <td>00000</td>\n",
       "    </tr>\n",
       "    <tr>\n",
       "      <th>...</th>\n",
       "      <td>...</td>\n",
       "      <td>...</td>\n",
       "      <td>...</td>\n",
       "      <td>...</td>\n",
       "      <td>...</td>\n",
       "      <td>...</td>\n",
       "      <td>...</td>\n",
       "      <td>...</td>\n",
       "      <td>...</td>\n",
       "      <td>...</td>\n",
       "      <td>...</td>\n",
       "      <td>...</td>\n",
       "      <td>...</td>\n",
       "      <td>...</td>\n",
       "      <td>...</td>\n",
       "      <td>...</td>\n",
       "      <td>...</td>\n",
       "      <td>...</td>\n",
       "      <td>...</td>\n",
       "      <td>...</td>\n",
       "      <td>...</td>\n",
       "    </tr>\n",
       "    <tr>\n",
       "      <th>47025</th>\n",
       "      <td>288015</td>\n",
       "      <td>1.0</td>\n",
       "      <td>3.0</td>\n",
       "      <td>Sí</td>\n",
       "      <td>2005.0</td>\n",
       "      <td>1er. Trimestre</td>\n",
       "      <td>Patagónica</td>\n",
       "      <td>N</td>\n",
       "      <td>Ushuaia - Río Grande</td>\n",
       "      <td>129.0</td>\n",
       "      <td>...</td>\n",
       "      <td>09</td>\n",
       "      <td>10</td>\n",
       "      <td>09</td>\n",
       "      <td></td>\n",
       "      <td>10</td>\n",
       "      <td>07</td>\n",
       "      <td>0.0</td>\n",
       "      <td>0.0</td>\n",
       "      <td>0.0</td>\n",
       "      <td>00000</td>\n",
       "    </tr>\n",
       "    <tr>\n",
       "      <th>47026</th>\n",
       "      <td>288015</td>\n",
       "      <td>1.0</td>\n",
       "      <td>4.0</td>\n",
       "      <td>Sí</td>\n",
       "      <td>2005.0</td>\n",
       "      <td>1er. Trimestre</td>\n",
       "      <td>Patagónica</td>\n",
       "      <td>N</td>\n",
       "      <td>Ushuaia - Río Grande</td>\n",
       "      <td>129.0</td>\n",
       "      <td>...</td>\n",
       "      <td>09</td>\n",
       "      <td>10</td>\n",
       "      <td>09</td>\n",
       "      <td></td>\n",
       "      <td>10</td>\n",
       "      <td>07</td>\n",
       "      <td>0.0</td>\n",
       "      <td>0.0</td>\n",
       "      <td>0.0</td>\n",
       "      <td>00000</td>\n",
       "    </tr>\n",
       "    <tr>\n",
       "      <th>47027</th>\n",
       "      <td>288294</td>\n",
       "      <td>1.0</td>\n",
       "      <td>1.0</td>\n",
       "      <td>Sí</td>\n",
       "      <td>2005.0</td>\n",
       "      <td>1er. Trimestre</td>\n",
       "      <td>Patagónica</td>\n",
       "      <td>N</td>\n",
       "      <td>Ushuaia - Río Grande</td>\n",
       "      <td>107.0</td>\n",
       "      <td>...</td>\n",
       "      <td>10</td>\n",
       "      <td>10</td>\n",
       "      <td>09</td>\n",
       "      <td></td>\n",
       "      <td>10</td>\n",
       "      <td>09</td>\n",
       "      <td>0.0</td>\n",
       "      <td>0.0</td>\n",
       "      <td>0.0</td>\n",
       "      <td>00000</td>\n",
       "    </tr>\n",
       "    <tr>\n",
       "      <th>47028</th>\n",
       "      <td>288294</td>\n",
       "      <td>1.0</td>\n",
       "      <td>2.0</td>\n",
       "      <td>Sí</td>\n",
       "      <td>2005.0</td>\n",
       "      <td>1er. Trimestre</td>\n",
       "      <td>Patagónica</td>\n",
       "      <td>N</td>\n",
       "      <td>Ushuaia - Río Grande</td>\n",
       "      <td>107.0</td>\n",
       "      <td>...</td>\n",
       "      <td>10</td>\n",
       "      <td>10</td>\n",
       "      <td>09</td>\n",
       "      <td></td>\n",
       "      <td>10</td>\n",
       "      <td>09</td>\n",
       "      <td>0.0</td>\n",
       "      <td>0.0</td>\n",
       "      <td>0.0</td>\n",
       "      <td>00000</td>\n",
       "    </tr>\n",
       "    <tr>\n",
       "      <th>47029</th>\n",
       "      <td>288294</td>\n",
       "      <td>1.0</td>\n",
       "      <td>3.0</td>\n",
       "      <td>0.0</td>\n",
       "      <td>2005.0</td>\n",
       "      <td>1er. Trimestre</td>\n",
       "      <td>Patagónica</td>\n",
       "      <td>N</td>\n",
       "      <td>Ushuaia - Río Grande</td>\n",
       "      <td>107.0</td>\n",
       "      <td>...</td>\n",
       "      <td>10</td>\n",
       "      <td>10</td>\n",
       "      <td>09</td>\n",
       "      <td></td>\n",
       "      <td>10</td>\n",
       "      <td>09</td>\n",
       "      <td>0.0</td>\n",
       "      <td>0.0</td>\n",
       "      <td>0.0</td>\n",
       "      <td>00000</td>\n",
       "    </tr>\n",
       "  </tbody>\n",
       "</table>\n",
       "<p>47030 rows × 176 columns</p>\n",
       "</div>"
      ],
      "text/plain": [
       "         CODUSU  NRO_HOGAR COMPONENTE  H15    ANO4       TRIMESTRE  \\\n",
       "0      125098          1.0        1.0   Sí  2005.0  1er. Trimestre   \n",
       "1      125188          1.0        1.0   Sí  2005.0  1er. Trimestre   \n",
       "2      125188          1.0        2.0   Sí  2005.0  1er. Trimestre   \n",
       "3      125188          1.0        3.0  0.0  2005.0  1er. Trimestre   \n",
       "4      125242          1.0        1.0   Sí  2005.0  1er. Trimestre   \n",
       "...         ...        ...        ...  ...     ...             ...   \n",
       "47025  288015          1.0        3.0   Sí  2005.0  1er. Trimestre   \n",
       "47026  288015          1.0        4.0   Sí  2005.0  1er. Trimestre   \n",
       "47027  288294          1.0        1.0   Sí  2005.0  1er. Trimestre   \n",
       "47028  288294          1.0        2.0   Sí  2005.0  1er. Trimestre   \n",
       "47029  288294          1.0        3.0  0.0  2005.0  1er. Trimestre   \n",
       "\n",
       "           REGION MAS_500              AGLOMERADO  PONDERA  ... DECCFR  \\\n",
       "0               1       S  Ciudad de Buenos Aires   1017.0  ...     08   \n",
       "1               1       S  Ciudad de Buenos Aires   1062.0  ...     02   \n",
       "2               1       S  Ciudad de Buenos Aires   1062.0  ...     02   \n",
       "3               1       S  Ciudad de Buenos Aires   1062.0  ...     02   \n",
       "4               1       S  Ciudad de Buenos Aires   1103.0  ...     09   \n",
       "...           ...     ...                     ...      ...  ...    ...   \n",
       "47025  Patagónica       N    Ushuaia - Río Grande    129.0  ...     09   \n",
       "47026  Patagónica       N    Ushuaia - Río Grande    129.0  ...     09   \n",
       "47027  Patagónica       N    Ushuaia - Río Grande    107.0  ...     10   \n",
       "47028  Patagónica       N    Ushuaia - Río Grande    107.0  ...     10   \n",
       "47029  Patagónica       N    Ushuaia - Río Grande    107.0  ...     10   \n",
       "\n",
       "      IDECCFR RDECCFR GDECCFR PDECCFR ADECCFR PJ1_1 PJ2_1 PJ3_1 IDIMPP  \n",
       "0                  07      08              05   0.0   0.0   0.0  00000  \n",
       "1                  02      02              01   0.0   0.0   0.0  40020  \n",
       "2                  02      02              01   0.0   0.0   0.0  00000  \n",
       "3                  02      02              01   0.0   0.0   0.0  00000  \n",
       "4                  09      09              07   0.0   0.0   0.0  00000  \n",
       "...       ...     ...     ...     ...     ...   ...   ...   ...    ...  \n",
       "47025      10      09              10      07   0.0   0.0   0.0  00000  \n",
       "47026      10      09              10      07   0.0   0.0   0.0  00000  \n",
       "47027      10      09              10      09   0.0   0.0   0.0  00000  \n",
       "47028      10      09              10      09   0.0   0.0   0.0  00000  \n",
       "47029      10      09              10      09   0.0   0.0   0.0  00000  \n",
       "\n",
       "[47030 rows x 176 columns]"
      ]
     },
     "execution_count": 38,
     "metadata": {},
     "output_type": "execute_result"
    }
   ],
   "source": [
    "# Vemos los cambio\n",
    "df_1_a1"
   ]
  },
  {
   "cell_type": "code",
   "execution_count": 39,
   "metadata": {
    "id": "ya2AMA9tHlUy"
   },
   "outputs": [],
   "source": [
    "# Fitramos unicamente los datos para la región seleccionada\n",
    "df_1_b= df_1_a1[df_1_a1[\"REGION\"] == 1].copy()\n",
    "df_2_b= df_2_a[df_2_a[\"REGION\"] == 1].copy()"
   ]
  },
  {
   "cell_type": "code",
   "execution_count": 40,
   "metadata": {
    "id": "WPzFRLI9H1Hj"
   },
   "outputs": [],
   "source": [
    "# Seleccionamos las 15 variables de interes\n",
    "variables_de_interes = ['CODUSU','REGION','ANO4','CH04','CH06','CH07','CH08','NIVEL_ED','ESTADO','CAT_INAC','PP10A','PP03J','PP04A','P21','P47T','ITF','IPCF']\n",
    "df_1_c= df_1_b[variables_de_interes].copy()\n",
    "df_2_c= df_2_b[variables_de_interes].copy()"
   ]
  },
  {
   "cell_type": "code",
   "execution_count": 41,
   "metadata": {
    "id": "FnBiljswMAT4"
   },
   "outputs": [],
   "source": [
    "# Observamos el tipo de dato almacenado por variable en cada df, para ello armamos un cuadro comparativo\n",
    "    # Tipos de datos por df\n",
    "tipos_df1 = df_1_c.dtypes.astype(str)\n",
    "tipos_df2 = df_2_c.dtypes.astype(str)"
   ]
  },
  {
   "cell_type": "code",
   "execution_count": 42,
   "metadata": {
    "id": "5cqn30D7MJ0S"
   },
   "outputs": [],
   "source": [
    "    # Creamos el df comparativo\n",
    "comparativo_datos = pd.DataFrame({\n",
    "    \"df_1_c\": tipos_df1[variables_de_interes],\n",
    "    \"df_2_c\": tipos_df2[variables_de_interes]\n",
    "})"
   ]
  },
  {
   "cell_type": "code",
   "execution_count": 43,
   "metadata": {
    "colab": {
     "base_uri": "https://localhost:8080/"
    },
    "id": "nOaLDJjxMOQS",
    "outputId": "dd117b04-2576-44f2-e1a9-3f73fbfc6b1f"
   },
   "outputs": [
    {
     "name": "stdout",
     "output_type": "stream",
     "text": [
      "            df_1_c   df_2_c\n",
      "CODUSU      object   object\n",
      "REGION    category    int64\n",
      "ANO4       float64    int64\n",
      "CH04      category    int64\n",
      "CH06      category    int64\n",
      "CH07      category    int64\n",
      "CH08      category  float64\n",
      "NIVEL_ED  category    int64\n",
      "ESTADO    category    int64\n",
      "CAT_INAC  category    int64\n",
      "PP10A     category  float64\n",
      "PP03J     category  float64\n",
      "PP04A     category  float64\n",
      "P21        float64    int64\n",
      "P47T       float64  float64\n",
      "ITF        float64    int64\n",
      "IPCF       float64  float64\n"
     ]
    }
   ],
   "source": [
    "    # Usamos las variables como indices de las filas para leer mas facil\n",
    "comparativo_datos = comparativo_datos.set_index(pd.Index(variables_de_interes))\n",
    "print(comparativo_datos)"
   ]
  },
  {
   "cell_type": "code",
   "execution_count": 44,
   "metadata": {
    "id": "PHlVRdHDMsaN",
    "scrolled": true
   },
   "outputs": [],
   "source": [
    "# Compatibilizamos los tipos de datos en ambas variables\n",
    "    # codusu: pasamos los datos de df_1 a str\n",
    "df_1_c['CODUSU'] =df_1_c['CODUSU'].astype(str)\n",
    "    # region: pasamos los datos de df_1 a int64\n",
    "df_1_c['REGION'] =df_1_c['REGION'].astype(str).astype(int)\n",
    "    # ano4: pasamos los datos de df_1 a int64\n",
    "df_1_c['ANO4'] = df_1_c['ANO4'].astype(int)\n",
    "    # ch04: pasamos los datos de df_1 a int64\n",
    "df_1_c['CH04'] = df_1_c['CH04'].astype(int)\n",
    "    # ch06: pasamos los datos de df_1 a int64\n",
    "df_1_c['CH06'] = df_1_c['CH06'].astype(int)\n",
    "    #ch07: pasamos los datos de df_1 a int64\n",
    "df_1_c['CH07'] = df_1_c['CH07'].astype(int)\n",
    "    #ch08: pasamos los datos de df_1 a int64\n",
    "df_1_c['CH08'] = df_1_c['CH08'].astype(int)\n",
    "    #NIVEL_ED: pasamos los datos de_1 a int64\n",
    "df_1_c['NIVEL_ED'] = df_1_c['NIVEL_ED'].astype(int)\n",
    "    #estado: pasamos los datos de df_1 a int64\n",
    "df_1_c['ESTADO'] = df_1_c['ESTADO'].astype(int)\n",
    "    #cat_inac: pasamos los datos de df_1 a int64\n",
    "df_1_c['CAT_INAC'] = df_1_c['CAT_INAC'].astype(int)\n",
    "    #pp10a: pasamos los datos de df_1 a int64\n",
    "df_1_c['PP10A'] = df_1_c['PP10A'].astype(int)\n",
    "    #pp03j: pasamos los datos de df_1 a int64\n",
    "df_1_c['PP03J'] = df_1_c['PP03J'].astype(int)\n",
    "    #pp04a: pasamos los datos de df_1 a int64\n",
    "df_1_c['PP04A'] = df_1_c['PP04A'].astype(int)\n",
    "    #p21: pasamos los datos de df_1 a int64\n",
    "df_1_c['P21'] = df_1_c['P21'].astype(int)\n",
    "    #p47t: pasamos los datos de df_1 a int64\n",
    "df_1_c['P47T'] = df_1_c['P47T'].astype(int)\n",
    "    #itf: pasamos los datos de df_1 a int64\n",
    "df_1_c['ITF'] = df_1_c['ITF'].astype(int)\n",
    "    #ipcf: pasamos los datos de df_1 a int64\n",
    "df_1_c['IPCF'] = df_1_c['IPCF'].astype(int)\n",
    "\n",
    "\n",
    " #df_2\n",
    "    #ch08: pasamos los datos de df_2 a int64\n",
    "df_2_c['CH08'] = df_2_c['CH08'].astype(int)\n",
    "    #pp10a: pasamos los datos de df_2 a int64\n",
    "df_2_c['PP10A'] = df_2_c['PP10A'].astype(int)\n",
    "    #pp03j: pasamos los datos de df_2 a int64\n",
    "df_2_c['PP03J'] = df_2_c['PP03J'].astype(int)\n",
    "    #pp04a: pasamos los datos de df_2 a int64\n",
    "df_2_c['PP04A'] = df_2_c['PP04A'].astype(int)\n",
    "    #p47t: pasamos los datos de df_2 a int64\n",
    "df_2_c['P47T'] = df_2_c['P47T'].astype(int)\n",
    "    #ipcf: pasamos los datos de df_2 a int64\n",
    "df_2_c['IPCF'] = df_2_c['IPCF'].astype(int)\n",
    "\n",
    "\n",
    "\n",
    "\n"
   ]
  },
  {
   "cell_type": "code",
   "execution_count": 45,
   "metadata": {
    "colab": {
     "base_uri": "https://localhost:8080/"
    },
    "id": "bSTntf7wQeMH",
    "outputId": "168308f3-f080-4098-dd26-4858e15d7589"
   },
   "outputs": [
    {
     "name": "stdout",
     "output_type": "stream",
     "text": [
      "Vemos los datos compatibilizados\n",
      "          df_1_c  df_2_c\n",
      "CODUSU    object  object\n",
      "REGION     int64   int64\n",
      "ANO4       int64   int64\n",
      "CH04       int64   int64\n",
      "CH06       int64   int64\n",
      "CH07       int64   int64\n",
      "CH08       int64   int64\n",
      "NIVEL_ED   int64   int64\n",
      "ESTADO     int64   int64\n",
      "CAT_INAC   int64   int64\n",
      "PP10A      int64   int64\n",
      "PP03J      int64   int64\n",
      "PP04A      int64   int64\n",
      "P21        int64   int64\n",
      "P47T       int64   int64\n",
      "ITF        int64   int64\n",
      "IPCF       int64   int64\n"
     ]
    }
   ],
   "source": [
    "# Corroboramos que ahora todos los tipos de datos sean iguales\n",
    "\n",
    "tipos_df1_a = df_1_c.dtypes.astype(str)\n",
    "tipos_df2_a= df_2_c.dtypes.astype(str)\n",
    "\n",
    "    # Creamos el df comparativo\n",
    "comparativo_datos_a = pd.DataFrame({\n",
    "    \"df_1_c\": tipos_df1_a,\n",
    "    \"df_2_c\": tipos_df2_a\n",
    "})\n",
    "    # Usamos las variables como indices de las filas para leer mas facil\n",
    "comparativo_datos_a = comparativo_datos_a.set_index(pd.Index(variables_de_interes))\n",
    "print(\"Vemos los datos compatibilizados\")\n",
    "print(comparativo_datos_a)"
   ]
  },
  {
   "cell_type": "code",
   "execution_count": 46,
   "metadata": {
    "colab": {
     "base_uri": "https://localhost:8080/",
     "height": 461
    },
    "id": "dWHWcc7UoWSZ",
    "outputId": "f7f2c637-8597-4967-df23-60a3bfa1a6ae"
   },
   "outputs": [
    {
     "name": "stdout",
     "output_type": "stream",
     "text": [
      "(16665, 17)\n"
     ]
    },
    {
     "data": {
      "text/html": [
       "<div>\n",
       "<style scoped>\n",
       "    .dataframe tbody tr th:only-of-type {\n",
       "        vertical-align: middle;\n",
       "    }\n",
       "\n",
       "    .dataframe tbody tr th {\n",
       "        vertical-align: top;\n",
       "    }\n",
       "\n",
       "    .dataframe thead th {\n",
       "        text-align: right;\n",
       "    }\n",
       "</style>\n",
       "<table border=\"1\" class=\"dataframe\">\n",
       "  <thead>\n",
       "    <tr style=\"text-align: right;\">\n",
       "      <th></th>\n",
       "      <th>CODUSU</th>\n",
       "      <th>REGION</th>\n",
       "      <th>ANO4</th>\n",
       "      <th>CH04</th>\n",
       "      <th>CH06</th>\n",
       "      <th>CH07</th>\n",
       "      <th>CH08</th>\n",
       "      <th>NIVEL_ED</th>\n",
       "      <th>ESTADO</th>\n",
       "      <th>CAT_INAC</th>\n",
       "      <th>PP10A</th>\n",
       "      <th>PP03J</th>\n",
       "      <th>PP04A</th>\n",
       "      <th>P21</th>\n",
       "      <th>P47T</th>\n",
       "      <th>ITF</th>\n",
       "      <th>IPCF</th>\n",
       "    </tr>\n",
       "  </thead>\n",
       "  <tbody>\n",
       "    <tr>\n",
       "      <th>0</th>\n",
       "      <td>125098</td>\n",
       "      <td>1</td>\n",
       "      <td>2005</td>\n",
       "      <td>1</td>\n",
       "      <td>80</td>\n",
       "      <td>4</td>\n",
       "      <td>1</td>\n",
       "      <td>3</td>\n",
       "      <td>3</td>\n",
       "      <td>1</td>\n",
       "      <td>0</td>\n",
       "      <td>0</td>\n",
       "      <td>0</td>\n",
       "      <td>0</td>\n",
       "      <td>583</td>\n",
       "      <td>583</td>\n",
       "      <td>583</td>\n",
       "    </tr>\n",
       "    <tr>\n",
       "      <th>1</th>\n",
       "      <td>125188</td>\n",
       "      <td>1</td>\n",
       "      <td>2005</td>\n",
       "      <td>1</td>\n",
       "      <td>26</td>\n",
       "      <td>2</td>\n",
       "      <td>4</td>\n",
       "      <td>4</td>\n",
       "      <td>1</td>\n",
       "      <td>0</td>\n",
       "      <td>0</td>\n",
       "      <td>1</td>\n",
       "      <td>2</td>\n",
       "      <td>300</td>\n",
       "      <td>450</td>\n",
       "      <td>450</td>\n",
       "      <td>150</td>\n",
       "    </tr>\n",
       "    <tr>\n",
       "      <th>2</th>\n",
       "      <td>125188</td>\n",
       "      <td>1</td>\n",
       "      <td>2005</td>\n",
       "      <td>2</td>\n",
       "      <td>27</td>\n",
       "      <td>2</td>\n",
       "      <td>4</td>\n",
       "      <td>6</td>\n",
       "      <td>3</td>\n",
       "      <td>4</td>\n",
       "      <td>0</td>\n",
       "      <td>0</td>\n",
       "      <td>0</td>\n",
       "      <td>0</td>\n",
       "      <td>0</td>\n",
       "      <td>450</td>\n",
       "      <td>150</td>\n",
       "    </tr>\n",
       "    <tr>\n",
       "      <th>3</th>\n",
       "      <td>125188</td>\n",
       "      <td>1</td>\n",
       "      <td>2005</td>\n",
       "      <td>2</td>\n",
       "      <td>-1</td>\n",
       "      <td>5</td>\n",
       "      <td>4</td>\n",
       "      <td>7</td>\n",
       "      <td>4</td>\n",
       "      <td>5</td>\n",
       "      <td>0</td>\n",
       "      <td>0</td>\n",
       "      <td>0</td>\n",
       "      <td>0</td>\n",
       "      <td>0</td>\n",
       "      <td>450</td>\n",
       "      <td>150</td>\n",
       "    </tr>\n",
       "    <tr>\n",
       "      <th>4</th>\n",
       "      <td>125242</td>\n",
       "      <td>1</td>\n",
       "      <td>2005</td>\n",
       "      <td>2</td>\n",
       "      <td>71</td>\n",
       "      <td>4</td>\n",
       "      <td>1</td>\n",
       "      <td>2</td>\n",
       "      <td>3</td>\n",
       "      <td>1</td>\n",
       "      <td>0</td>\n",
       "      <td>0</td>\n",
       "      <td>0</td>\n",
       "      <td>0</td>\n",
       "      <td>855</td>\n",
       "      <td>855</td>\n",
       "      <td>855</td>\n",
       "    </tr>\n",
       "    <tr>\n",
       "      <th>...</th>\n",
       "      <td>...</td>\n",
       "      <td>...</td>\n",
       "      <td>...</td>\n",
       "      <td>...</td>\n",
       "      <td>...</td>\n",
       "      <td>...</td>\n",
       "      <td>...</td>\n",
       "      <td>...</td>\n",
       "      <td>...</td>\n",
       "      <td>...</td>\n",
       "      <td>...</td>\n",
       "      <td>...</td>\n",
       "      <td>...</td>\n",
       "      <td>...</td>\n",
       "      <td>...</td>\n",
       "      <td>...</td>\n",
       "      <td>...</td>\n",
       "    </tr>\n",
       "    <tr>\n",
       "      <th>45259</th>\n",
       "      <td>TQRMNORWYHKMPRCDEIJAH00860437</td>\n",
       "      <td>1</td>\n",
       "      <td>2025</td>\n",
       "      <td>1</td>\n",
       "      <td>49</td>\n",
       "      <td>2</td>\n",
       "      <td>1</td>\n",
       "      <td>3</td>\n",
       "      <td>1</td>\n",
       "      <td>0</td>\n",
       "      <td>0</td>\n",
       "      <td>2</td>\n",
       "      <td>2</td>\n",
       "      <td>700000</td>\n",
       "      <td>700000</td>\n",
       "      <td>0</td>\n",
       "      <td>0</td>\n",
       "    </tr>\n",
       "    <tr>\n",
       "      <th>45260</th>\n",
       "      <td>TQRMNORWYHKMPRCDEIJAH00860437</td>\n",
       "      <td>1</td>\n",
       "      <td>2025</td>\n",
       "      <td>2</td>\n",
       "      <td>51</td>\n",
       "      <td>2</td>\n",
       "      <td>1</td>\n",
       "      <td>6</td>\n",
       "      <td>1</td>\n",
       "      <td>0</td>\n",
       "      <td>0</td>\n",
       "      <td>9</td>\n",
       "      <td>2</td>\n",
       "      <td>500000</td>\n",
       "      <td>500000</td>\n",
       "      <td>0</td>\n",
       "      <td>0</td>\n",
       "    </tr>\n",
       "    <tr>\n",
       "      <th>45261</th>\n",
       "      <td>TQRMNORWYHKMPRCDEIJAH00860437</td>\n",
       "      <td>1</td>\n",
       "      <td>2025</td>\n",
       "      <td>2</td>\n",
       "      <td>22</td>\n",
       "      <td>5</td>\n",
       "      <td>1</td>\n",
       "      <td>6</td>\n",
       "      <td>1</td>\n",
       "      <td>0</td>\n",
       "      <td>0</td>\n",
       "      <td>1</td>\n",
       "      <td>2</td>\n",
       "      <td>-9</td>\n",
       "      <td>-9</td>\n",
       "      <td>0</td>\n",
       "      <td>0</td>\n",
       "    </tr>\n",
       "    <tr>\n",
       "      <th>45262</th>\n",
       "      <td>TQRMNORWYHKMPRCDEIJAH00860437</td>\n",
       "      <td>1</td>\n",
       "      <td>2025</td>\n",
       "      <td>1</td>\n",
       "      <td>26</td>\n",
       "      <td>5</td>\n",
       "      <td>1</td>\n",
       "      <td>3</td>\n",
       "      <td>3</td>\n",
       "      <td>3</td>\n",
       "      <td>0</td>\n",
       "      <td>9</td>\n",
       "      <td>0</td>\n",
       "      <td>0</td>\n",
       "      <td>0</td>\n",
       "      <td>0</td>\n",
       "      <td>0</td>\n",
       "    </tr>\n",
       "    <tr>\n",
       "      <th>45263</th>\n",
       "      <td>TQRMNORWYHKMPRCDEIJAH00860437</td>\n",
       "      <td>1</td>\n",
       "      <td>2025</td>\n",
       "      <td>2</td>\n",
       "      <td>6</td>\n",
       "      <td>5</td>\n",
       "      <td>1</td>\n",
       "      <td>1</td>\n",
       "      <td>4</td>\n",
       "      <td>3</td>\n",
       "      <td>0</td>\n",
       "      <td>9</td>\n",
       "      <td>0</td>\n",
       "      <td>0</td>\n",
       "      <td>0</td>\n",
       "      <td>0</td>\n",
       "      <td>0</td>\n",
       "    </tr>\n",
       "  </tbody>\n",
       "</table>\n",
       "<p>16665 rows × 17 columns</p>\n",
       "</div>"
      ],
      "text/plain": [
       "                              CODUSU  REGION  ANO4  CH04  CH06  CH07  CH08  \\\n",
       "0                           125098         1  2005     1    80     4     1   \n",
       "1                           125188         1  2005     1    26     2     4   \n",
       "2                           125188         1  2005     2    27     2     4   \n",
       "3                           125188         1  2005     2    -1     5     4   \n",
       "4                           125242         1  2005     2    71     4     1   \n",
       "...                              ...     ...   ...   ...   ...   ...   ...   \n",
       "45259  TQRMNORWYHKMPRCDEIJAH00860437       1  2025     1    49     2     1   \n",
       "45260  TQRMNORWYHKMPRCDEIJAH00860437       1  2025     2    51     2     1   \n",
       "45261  TQRMNORWYHKMPRCDEIJAH00860437       1  2025     2    22     5     1   \n",
       "45262  TQRMNORWYHKMPRCDEIJAH00860437       1  2025     1    26     5     1   \n",
       "45263  TQRMNORWYHKMPRCDEIJAH00860437       1  2025     2     6     5     1   \n",
       "\n",
       "       NIVEL_ED  ESTADO  CAT_INAC  PP10A  PP03J  PP04A     P21    P47T  ITF  \\\n",
       "0             3       3         1      0      0      0       0     583  583   \n",
       "1             4       1         0      0      1      2     300     450  450   \n",
       "2             6       3         4      0      0      0       0       0  450   \n",
       "3             7       4         5      0      0      0       0       0  450   \n",
       "4             2       3         1      0      0      0       0     855  855   \n",
       "...         ...     ...       ...    ...    ...    ...     ...     ...  ...   \n",
       "45259         3       1         0      0      2      2  700000  700000    0   \n",
       "45260         6       1         0      0      9      2  500000  500000    0   \n",
       "45261         6       1         0      0      1      2      -9      -9    0   \n",
       "45262         3       3         3      0      9      0       0       0    0   \n",
       "45263         1       4         3      0      9      0       0       0    0   \n",
       "\n",
       "       IPCF  \n",
       "0       583  \n",
       "1       150  \n",
       "2       150  \n",
       "3       150  \n",
       "4       855  \n",
       "...     ...  \n",
       "45259     0  \n",
       "45260     0  \n",
       "45261     0  \n",
       "45262     0  \n",
       "45263     0  \n",
       "\n",
       "[16665 rows x 17 columns]"
      ]
     },
     "execution_count": 46,
     "metadata": {},
     "output_type": "execute_result"
    }
   ],
   "source": [
    "# en este paso adjuntamos al final los datos de las dos base de datos\n",
    "df_comp= pd.concat([df_1_c, df_2_c])\n",
    "print(df_comp.shape)\n",
    "df_comp"
   ]
  },
  {
   "cell_type": "code",
   "execution_count": 47,
   "metadata": {
    "colab": {
     "base_uri": "https://localhost:8080/"
    },
    "id": "TAsQIBLFTKaI",
    "outputId": "0b10d076-07d8-41aa-a8a8-4cd037d5acf4"
   },
   "outputs": [
    {
     "name": "stdout",
     "output_type": "stream",
     "text": [
      "(9484, 17)\n",
      "(7181, 17)\n",
      "(16665, 17)\n"
     ]
    }
   ],
   "source": [
    "# Corroboramos que se hayan unido correctamente ambas base\n",
    "print(df_1_c.shape)\n",
    "print(df_2_c.shape)\n",
    "print(df_comp.shape)\n"
   ]
  },
  {
   "cell_type": "markdown",
   "metadata": {
    "id": "0T7qSOmjq-4g"
   },
   "source": [
    "####B"
   ]
  },
  {
   "cell_type": "code",
   "execution_count": 48,
   "metadata": {
    "id": "8kLWFj_KrCDh"
   },
   "outputs": [],
   "source": [
    "#imporatmos las expanciones necesarias\n",
    "import numpy as np\n",
    "import seaborn as sns\n",
    "import matplotlib.pyplot as plt"
   ]
  },
  {
   "cell_type": "code",
   "execution_count": 49,
   "metadata": {
    "id": "F_pccmSQFMGP"
   },
   "outputs": [],
   "source": [
    "#hacemos una copia para no alterar la base original\n",
    "df_comp_1 = df_comp.copy()"
   ]
  },
  {
   "cell_type": "code",
   "execution_count": 50,
   "metadata": {
    "colab": {
     "base_uri": "https://localhost:8080/"
    },
    "id": "zNWm6faEEFs3",
    "outputId": "26cd9cbb-395c-4f79-b204-3747d1d4bf66"
   },
   "outputs": [
    {
     "name": "stdout",
     "output_type": "stream",
     "text": [
      "                              CODUSU  REGION  ANO4  CH04  CH06  CH07  CH08  \\\n",
      "0                           125098         1  2005     1    80   4.0   1.0   \n",
      "1                           125188         1  2005     1    26   2.0   4.0   \n",
      "2                           125188         1  2005     2    27   2.0   4.0   \n",
      "3                           125188         1  2005     2    -1   5.0   4.0   \n",
      "4                           125242         1  2005     2    71   4.0   1.0   \n",
      "...                              ...     ...   ...   ...   ...   ...   ...   \n",
      "45259  TQRMNORWYHKMPRCDEIJAH00860437       1  2025     1    49   2.0   1.0   \n",
      "45260  TQRMNORWYHKMPRCDEIJAH00860437       1  2025     2    51   2.0   1.0   \n",
      "45261  TQRMNORWYHKMPRCDEIJAH00860437       1  2025     2    22   5.0   1.0   \n",
      "45262  TQRMNORWYHKMPRCDEIJAH00860437       1  2025     1    26   5.0   1.0   \n",
      "45263  TQRMNORWYHKMPRCDEIJAH00860437       1  2025     2     6   5.0   1.0   \n",
      "\n",
      "       NIVEL_ED  ESTADO  CAT_INAC  PP10A  PP03J  PP04A     P21      P47T  ITF  \\\n",
      "0             3       3         1    NaN    NaN    NaN       0     583.0  583   \n",
      "1             4       1         0    NaN    1.0    2.0     300     450.0  450   \n",
      "2             6       3         4    NaN    NaN    NaN       0       NaN  450   \n",
      "3             7       4         5    NaN    NaN    NaN       0       NaN  450   \n",
      "4             2       3         1    NaN    NaN    NaN       0     855.0  855   \n",
      "...         ...     ...       ...    ...    ...    ...     ...       ...  ...   \n",
      "45259         3       1         0    NaN    2.0    2.0  700000  700000.0    0   \n",
      "45260         6       1         0    NaN    NaN    2.0  500000  500000.0    0   \n",
      "45261         6       1         0    NaN    1.0    2.0      -9      -9.0    0   \n",
      "45262         3       3         3    NaN    NaN    NaN       0       NaN    0   \n",
      "45263         1       4         3    NaN    NaN    NaN       0       NaN    0   \n",
      "\n",
      "       IPCF  \n",
      "0       583  \n",
      "1       150  \n",
      "2       150  \n",
      "3       150  \n",
      "4       855  \n",
      "...     ...  \n",
      "45259     0  \n",
      "45260     0  \n",
      "45261     0  \n",
      "45262     0  \n",
      "45263     0  \n",
      "\n",
      "[16665 rows x 17 columns]\n"
     ]
    }
   ],
   "source": [
    "# en este paso tranformaremos todas las columnas donde antes convertimos el NaN(valores faltantes) en numeros de vuelta en Nan\n",
    "cols = [\"CH07\",\"CH08\",\"NIVEL_ED\",\"PP03J\",\"PP10A\",\"PP04A\",\"P47T\"]\n",
    "df_comp_1[cols] = df_comp_1[cols].replace([9, 0], np.nan)\n",
    "\n",
    "print(df_comp_1)"
   ]
  },
  {
   "cell_type": "code",
   "execution_count": 51,
   "metadata": {
    "id": "Km8Y7-X8ZHLk"
   },
   "outputs": [],
   "source": [
    "# creamos copia para no afactar la df\n",
    "df_comp_1_a = df_comp_1.copy()"
   ]
  },
  {
   "cell_type": "code",
   "execution_count": 52,
   "metadata": {
    "colab": {
     "base_uri": "https://localhost:8080/"
    },
    "id": "CRy2TEFr92v4",
    "outputId": "df4e250b-da3e-4caf-dc07-6dbe15355601"
   },
   "outputs": [
    {
     "name": "stderr",
     "output_type": "stream",
     "text": [
      "C:\\Users\\ADOLFO\\AppData\\Local\\Temp\\ipykernel_3824\\2025000446.py:2: DeprecationWarning: DataFrameGroupBy.apply operated on the grouping columns. This behavior is deprecated, and in a future version of pandas the grouping columns will be excluded from the operation. Either pass `include_groups=False` to exclude the groupings or explicitly select the grouping columns after groupby to silence this warning.\n",
      "  df_comp_1_a= df_comp_1_a.groupby('ANO4').apply(lambda x: x.notnull().mean() * 100)\n"
     ]
    }
   ],
   "source": [
    "# Contar valores faltantes por año y columna\n",
    "df_comp_1_a= df_comp_1_a.groupby('ANO4').apply(lambda x: x.notnull().mean() * 100)"
   ]
  },
  {
   "cell_type": "code",
   "execution_count": 53,
   "metadata": {
    "colab": {
     "base_uri": "https://localhost:8080/",
     "height": 698
    },
    "id": "3nYTeDSX8fAH",
    "outputId": "ef2f2e1c-11e0-4e54-d0eb-a67d40b747cc"
   },
   "outputs": [
    {
     "data": {
      "image/png": "[encoded data removed]",
      "text/plain": [
       "<Figure size 1200x800 with 2 Axes>"
      ]
     },
     "metadata": {},
     "output_type": "display_data"
    }
   ],
   "source": [
    "# en este paso desiñaremos como se compone la figura de heatmap\n",
    "plt.figure(figsize=(12, 8))\n",
    "sns.heatmap(df_comp_1_a.T, annot=False, cmap=\"coolwarm_r\",cbar_kws={'label': 'Porcentaje de datos no-nulos'})\n",
    "plt.title(\"Figura 1. Porcentaje de información disponible por año\")\n",
    "plt.xlabel(\"Año\")\n",
    "plt.xticks(rotation=90, ha='right')\n",
    "plt.ylabel(\"Variables\")\n",
    "plt.yticks(rotation=0)\n",
    "plt.show()"
   ]
  },
  {
   "cell_type": "markdown",
   "metadata": {
    "id": "bLGoSkD4Zr9i"
   },
   "source": [
    "####C"
   ]
  },
  {
   "cell_type": "code",
   "execution_count": 54,
   "metadata": {
    "id": "e7trNr9aLkcs"
   },
   "outputs": [],
   "source": [
    "#creamos una copia para no alterar la base datos\n",
    "df_comp_2= df_comp.copy()"
   ]
  },
  {
   "cell_type": "code",
   "execution_count": 55,
   "metadata": {
    "colab": {
     "base_uri": "https://localhost:8080/",
     "height": 443
    },
    "id": "zHaSFlfRLkys",
    "outputId": "14b419ea-16a5-4c7b-fd84-a3321d35de5c"
   },
   "outputs": [
    {
     "data": {
      "text/html": [
       "<div>\n",
       "<style scoped>\n",
       "    .dataframe tbody tr th:only-of-type {\n",
       "        vertical-align: middle;\n",
       "    }\n",
       "\n",
       "    .dataframe tbody tr th {\n",
       "        vertical-align: top;\n",
       "    }\n",
       "\n",
       "    .dataframe thead th {\n",
       "        text-align: right;\n",
       "    }\n",
       "</style>\n",
       "<table border=\"1\" class=\"dataframe\">\n",
       "  <thead>\n",
       "    <tr style=\"text-align: right;\">\n",
       "      <th></th>\n",
       "      <th>CODUSU</th>\n",
       "      <th>REGION</th>\n",
       "      <th>ANO4</th>\n",
       "      <th>CH04</th>\n",
       "      <th>CH06</th>\n",
       "      <th>CH07</th>\n",
       "      <th>CH08</th>\n",
       "      <th>NIVEL_ED</th>\n",
       "      <th>ESTADO</th>\n",
       "      <th>CAT_INAC</th>\n",
       "      <th>PP10A</th>\n",
       "      <th>PP03J</th>\n",
       "      <th>PP04A</th>\n",
       "      <th>P21</th>\n",
       "      <th>P47T</th>\n",
       "      <th>ITF</th>\n",
       "      <th>IPCF</th>\n",
       "    </tr>\n",
       "  </thead>\n",
       "  <tbody>\n",
       "    <tr>\n",
       "      <th>0</th>\n",
       "      <td>125098</td>\n",
       "      <td>1</td>\n",
       "      <td>2005</td>\n",
       "      <td>1</td>\n",
       "      <td>80.0</td>\n",
       "      <td>4.0</td>\n",
       "      <td>1.0</td>\n",
       "      <td>3</td>\n",
       "      <td>3.0</td>\n",
       "      <td>1.0</td>\n",
       "      <td>NaN</td>\n",
       "      <td>NaN</td>\n",
       "      <td>NaN</td>\n",
       "      <td>0.0</td>\n",
       "      <td>583.0</td>\n",
       "      <td>583</td>\n",
       "      <td>583</td>\n",
       "    </tr>\n",
       "    <tr>\n",
       "      <th>1</th>\n",
       "      <td>125188</td>\n",
       "      <td>1</td>\n",
       "      <td>2005</td>\n",
       "      <td>1</td>\n",
       "      <td>26.0</td>\n",
       "      <td>2.0</td>\n",
       "      <td>4.0</td>\n",
       "      <td>4</td>\n",
       "      <td>1.0</td>\n",
       "      <td>NaN</td>\n",
       "      <td>NaN</td>\n",
       "      <td>1.0</td>\n",
       "      <td>2.0</td>\n",
       "      <td>300.0</td>\n",
       "      <td>450.0</td>\n",
       "      <td>450</td>\n",
       "      <td>150</td>\n",
       "    </tr>\n",
       "    <tr>\n",
       "      <th>2</th>\n",
       "      <td>125188</td>\n",
       "      <td>1</td>\n",
       "      <td>2005</td>\n",
       "      <td>2</td>\n",
       "      <td>27.0</td>\n",
       "      <td>2.0</td>\n",
       "      <td>4.0</td>\n",
       "      <td>6</td>\n",
       "      <td>3.0</td>\n",
       "      <td>4.0</td>\n",
       "      <td>NaN</td>\n",
       "      <td>NaN</td>\n",
       "      <td>NaN</td>\n",
       "      <td>0.0</td>\n",
       "      <td>0.0</td>\n",
       "      <td>450</td>\n",
       "      <td>150</td>\n",
       "    </tr>\n",
       "    <tr>\n",
       "      <th>3</th>\n",
       "      <td>125188</td>\n",
       "      <td>1</td>\n",
       "      <td>2005</td>\n",
       "      <td>2</td>\n",
       "      <td>-1.0</td>\n",
       "      <td>5.0</td>\n",
       "      <td>4.0</td>\n",
       "      <td>7</td>\n",
       "      <td>4.0</td>\n",
       "      <td>5.0</td>\n",
       "      <td>NaN</td>\n",
       "      <td>NaN</td>\n",
       "      <td>NaN</td>\n",
       "      <td>0.0</td>\n",
       "      <td>0.0</td>\n",
       "      <td>450</td>\n",
       "      <td>150</td>\n",
       "    </tr>\n",
       "    <tr>\n",
       "      <th>4</th>\n",
       "      <td>125242</td>\n",
       "      <td>1</td>\n",
       "      <td>2005</td>\n",
       "      <td>2</td>\n",
       "      <td>71.0</td>\n",
       "      <td>4.0</td>\n",
       "      <td>1.0</td>\n",
       "      <td>2</td>\n",
       "      <td>3.0</td>\n",
       "      <td>1.0</td>\n",
       "      <td>NaN</td>\n",
       "      <td>NaN</td>\n",
       "      <td>NaN</td>\n",
       "      <td>0.0</td>\n",
       "      <td>855.0</td>\n",
       "      <td>855</td>\n",
       "      <td>855</td>\n",
       "    </tr>\n",
       "    <tr>\n",
       "      <th>...</th>\n",
       "      <td>...</td>\n",
       "      <td>...</td>\n",
       "      <td>...</td>\n",
       "      <td>...</td>\n",
       "      <td>...</td>\n",
       "      <td>...</td>\n",
       "      <td>...</td>\n",
       "      <td>...</td>\n",
       "      <td>...</td>\n",
       "      <td>...</td>\n",
       "      <td>...</td>\n",
       "      <td>...</td>\n",
       "      <td>...</td>\n",
       "      <td>...</td>\n",
       "      <td>...</td>\n",
       "      <td>...</td>\n",
       "      <td>...</td>\n",
       "    </tr>\n",
       "    <tr>\n",
       "      <th>45259</th>\n",
       "      <td>TQRMNORWYHKMPRCDEIJAH00860437</td>\n",
       "      <td>1</td>\n",
       "      <td>2025</td>\n",
       "      <td>1</td>\n",
       "      <td>49.0</td>\n",
       "      <td>2.0</td>\n",
       "      <td>1.0</td>\n",
       "      <td>3</td>\n",
       "      <td>1.0</td>\n",
       "      <td>NaN</td>\n",
       "      <td>NaN</td>\n",
       "      <td>2.0</td>\n",
       "      <td>2.0</td>\n",
       "      <td>700000.0</td>\n",
       "      <td>700000.0</td>\n",
       "      <td>0</td>\n",
       "      <td>0</td>\n",
       "    </tr>\n",
       "    <tr>\n",
       "      <th>45260</th>\n",
       "      <td>TQRMNORWYHKMPRCDEIJAH00860437</td>\n",
       "      <td>1</td>\n",
       "      <td>2025</td>\n",
       "      <td>2</td>\n",
       "      <td>51.0</td>\n",
       "      <td>2.0</td>\n",
       "      <td>1.0</td>\n",
       "      <td>6</td>\n",
       "      <td>1.0</td>\n",
       "      <td>NaN</td>\n",
       "      <td>NaN</td>\n",
       "      <td>NaN</td>\n",
       "      <td>2.0</td>\n",
       "      <td>500000.0</td>\n",
       "      <td>500000.0</td>\n",
       "      <td>0</td>\n",
       "      <td>0</td>\n",
       "    </tr>\n",
       "    <tr>\n",
       "      <th>45261</th>\n",
       "      <td>TQRMNORWYHKMPRCDEIJAH00860437</td>\n",
       "      <td>1</td>\n",
       "      <td>2025</td>\n",
       "      <td>2</td>\n",
       "      <td>22.0</td>\n",
       "      <td>5.0</td>\n",
       "      <td>1.0</td>\n",
       "      <td>6</td>\n",
       "      <td>1.0</td>\n",
       "      <td>NaN</td>\n",
       "      <td>NaN</td>\n",
       "      <td>1.0</td>\n",
       "      <td>2.0</td>\n",
       "      <td>NaN</td>\n",
       "      <td>NaN</td>\n",
       "      <td>0</td>\n",
       "      <td>0</td>\n",
       "    </tr>\n",
       "    <tr>\n",
       "      <th>45262</th>\n",
       "      <td>TQRMNORWYHKMPRCDEIJAH00860437</td>\n",
       "      <td>1</td>\n",
       "      <td>2025</td>\n",
       "      <td>1</td>\n",
       "      <td>26.0</td>\n",
       "      <td>5.0</td>\n",
       "      <td>1.0</td>\n",
       "      <td>3</td>\n",
       "      <td>3.0</td>\n",
       "      <td>3.0</td>\n",
       "      <td>NaN</td>\n",
       "      <td>NaN</td>\n",
       "      <td>NaN</td>\n",
       "      <td>0.0</td>\n",
       "      <td>0.0</td>\n",
       "      <td>0</td>\n",
       "      <td>0</td>\n",
       "    </tr>\n",
       "    <tr>\n",
       "      <th>45263</th>\n",
       "      <td>TQRMNORWYHKMPRCDEIJAH00860437</td>\n",
       "      <td>1</td>\n",
       "      <td>2025</td>\n",
       "      <td>2</td>\n",
       "      <td>6.0</td>\n",
       "      <td>5.0</td>\n",
       "      <td>1.0</td>\n",
       "      <td>1</td>\n",
       "      <td>4.0</td>\n",
       "      <td>3.0</td>\n",
       "      <td>NaN</td>\n",
       "      <td>NaN</td>\n",
       "      <td>NaN</td>\n",
       "      <td>0.0</td>\n",
       "      <td>0.0</td>\n",
       "      <td>0</td>\n",
       "      <td>0</td>\n",
       "    </tr>\n",
       "  </tbody>\n",
       "</table>\n",
       "<p>16665 rows × 17 columns</p>\n",
       "</div>"
      ],
      "text/plain": [
       "                              CODUSU  REGION  ANO4  CH04  CH06  CH07  CH08  \\\n",
       "0                           125098         1  2005     1  80.0   4.0   1.0   \n",
       "1                           125188         1  2005     1  26.0   2.0   4.0   \n",
       "2                           125188         1  2005     2  27.0   2.0   4.0   \n",
       "3                           125188         1  2005     2  -1.0   5.0   4.0   \n",
       "4                           125242         1  2005     2  71.0   4.0   1.0   \n",
       "...                              ...     ...   ...   ...   ...   ...   ...   \n",
       "45259  TQRMNORWYHKMPRCDEIJAH00860437       1  2025     1  49.0   2.0   1.0   \n",
       "45260  TQRMNORWYHKMPRCDEIJAH00860437       1  2025     2  51.0   2.0   1.0   \n",
       "45261  TQRMNORWYHKMPRCDEIJAH00860437       1  2025     2  22.0   5.0   1.0   \n",
       "45262  TQRMNORWYHKMPRCDEIJAH00860437       1  2025     1  26.0   5.0   1.0   \n",
       "45263  TQRMNORWYHKMPRCDEIJAH00860437       1  2025     2   6.0   5.0   1.0   \n",
       "\n",
       "       NIVEL_ED  ESTADO  CAT_INAC  PP10A  PP03J  PP04A       P21      P47T  \\\n",
       "0             3     3.0       1.0    NaN    NaN    NaN       0.0     583.0   \n",
       "1             4     1.0       NaN    NaN    1.0    2.0     300.0     450.0   \n",
       "2             6     3.0       4.0    NaN    NaN    NaN       0.0       0.0   \n",
       "3             7     4.0       5.0    NaN    NaN    NaN       0.0       0.0   \n",
       "4             2     3.0       1.0    NaN    NaN    NaN       0.0     855.0   \n",
       "...         ...     ...       ...    ...    ...    ...       ...       ...   \n",
       "45259         3     1.0       NaN    NaN    2.0    2.0  700000.0  700000.0   \n",
       "45260         6     1.0       NaN    NaN    NaN    2.0  500000.0  500000.0   \n",
       "45261         6     1.0       NaN    NaN    1.0    2.0       NaN       NaN   \n",
       "45262         3     3.0       3.0    NaN    NaN    NaN       0.0       0.0   \n",
       "45263         1     4.0       3.0    NaN    NaN    NaN       0.0       0.0   \n",
       "\n",
       "       ITF  IPCF  \n",
       "0      583   583  \n",
       "1      450   150  \n",
       "2      450   150  \n",
       "3      450   150  \n",
       "4      855   855  \n",
       "...    ...   ...  \n",
       "45259    0     0  \n",
       "45260    0     0  \n",
       "45261    0     0  \n",
       "45262    0     0  \n",
       "45263    0     0  \n",
       "\n",
       "[16665 rows x 17 columns]"
      ]
     },
     "execution_count": 55,
     "metadata": {},
     "output_type": "execute_result"
    }
   ],
   "source": [
    "# coregiremos las varibles que tienen volores sinsentido y los tranformaremos NaN, la cuales en la eph se representan como -9,-8,-7,0 y 9\n",
    "vars_interes_1=['CH04','CH06','CH07','CH08','NIVEL_ED','ESTADO','CAT_INAC','PP03J','PP10A','PP04A']\n",
    "vars_interes_2=['P21','P47T','ITF','IPCF']\n",
    "df_comp_2[vars_interes_1] = df_comp_2[vars_interes_1].replace([-9, -8, -7,0,9], np.nan)\n",
    "df_comp_2[vars_interes_2] = df_comp_2[vars_interes_2].replace([-9, -8, -7], np.nan)\n",
    "df_comp_2"
   ]
  },
  {
   "cell_type": "code",
   "execution_count": 56,
   "metadata": {
    "colab": {
     "base_uri": "https://localhost:8080/"
    },
    "id": "lB-9fjTZZyIb",
    "outputId": "52a17958-fcb0-4513-fbd0-e0c8d2fa6119"
   },
   "outputs": [
    {
     "name": "stdout",
     "output_type": "stream",
     "text": [
      "CODUSU          0\n",
      "REGION          0\n",
      "ANO4            0\n",
      "CH04            0\n",
      "CH06          257\n",
      "CH07            4\n",
      "CH08           35\n",
      "NIVEL_ED        0\n",
      "ESTADO         51\n",
      "CAT_INAC     8321\n",
      "PP10A       15688\n",
      "PP03J        9418\n",
      "PP04A        9383\n",
      "P21           919\n",
      "P47T         1353\n",
      "ITF             0\n",
      "IPCF            0\n",
      "dtype: int64\n"
     ]
    }
   ],
   "source": [
    "#ver cuantas valores NaN tiene cada variavle\n",
    "print(df_comp_2.isna().sum())"
   ]
  },
  {
   "cell_type": "code",
   "execution_count": 57,
   "metadata": {
    "id": "80A8orxbZz0q"
   },
   "outputs": [],
   "source": [
    "#  ademas corrigiremos valores que no tienen sentido, cuando cumplen ciertas condiciones\n",
    "df_comp_2.loc[(df_comp_2['ITF'] == 0) & ((df_comp_2['P47T'] > 0) | (df_comp_2[\"ESTADO\"]==1)), 'ITF'] = np.nan #la variable \"itf\"(ingreso total familia) es igual a 0 sera NaN si la variable \"p47t\"(ingreso total de ocupacion como no ocupacion) es mayor a \"0\", o cuando la variable \"estado\" es igual a 1(ocupado)\n",
    "df_comp_2.loc[(df_comp_2['IPCF'] == 0) & ((df_comp_2['P47T'] > 0) | (df_comp_2[\"ESTADO\"]==1)), 'IPCF'] = np.nan #la variable \"ipcf\"(ingreso per capital familia) es igual a 0 sera NaN si la variable \"p47t\"(ingreso total de ocupacion como no ocupacion) es mayor a \"0\", o cuando la variable \"estado\" es igual a 1(ocupado)"
   ]
  },
  {
   "cell_type": "code",
   "execution_count": 58,
   "metadata": {
    "colab": {
     "base_uri": "https://localhost:8080/"
    },
    "id": "U7vTcgr7Z1O7",
    "outputId": "4031982f-c167-4c84-e3e0-4c6a0bb83c11"
   },
   "outputs": [
    {
     "name": "stdout",
     "output_type": "stream",
     "text": [
      "CODUSU          0\n",
      "REGION          0\n",
      "ANO4            0\n",
      "CH04            0\n",
      "CH06          257\n",
      "CH07            4\n",
      "CH08           35\n",
      "NIVEL_ED        0\n",
      "ESTADO         51\n",
      "CAT_INAC     8321\n",
      "PP10A       15688\n",
      "PP03J        9418\n",
      "PP04A        9383\n",
      "P21           919\n",
      "P47T         1353\n",
      "ITF          1702\n",
      "IPCF         1702\n",
      "dtype: int64\n"
     ]
    }
   ],
   "source": [
    "#ver cuantas valores NaN tiene cada variavle, con la nueva condicion\n",
    "print(df_comp_2.isna().sum())"
   ]
  },
  {
   "cell_type": "code",
   "execution_count": 59,
   "metadata": {
    "id": "MDqu38_OZuG5"
   },
   "outputs": [],
   "source": [
    "# hacemos una copia para no alterar el df\n",
    "df_comp_2_a= df_comp_2.copy()"
   ]
  },
  {
   "cell_type": "code",
   "execution_count": 60,
   "metadata": {
    "colab": {
     "base_uri": "https://localhost:8080/"
    },
    "id": "cYoZ2LF-Z3UD",
    "outputId": "c5b4e537-11e7-423f-e83a-4c27cb486201"
   },
   "outputs": [
    {
     "name": "stderr",
     "output_type": "stream",
     "text": [
      "C:\\Users\\ADOLFO\\AppData\\Local\\Temp\\ipykernel_3824\\46260248.py:3: DeprecationWarning: DataFrameGroupBy.apply operated on the grouping columns. This behavior is deprecated, and in a future version of pandas the grouping columns will be excluded from the operation. Either pass `include_groups=False` to exclude the groupings or explicitly select the grouping columns after groupby to silence this warning.\n",
      "  df_comp_2_a = df_comp_2_a.groupby('ANO4').apply(lambda x: x.notnull().mean() * 100)\n"
     ]
    }
   ],
   "source": [
    "#ahora vremos como seria el grafico de heatmap con la correcion de las variables incoerentes\n",
    "   # Contar valores faltantes por año y columna\n",
    "df_comp_2_a = df_comp_2_a.groupby('ANO4').apply(lambda x: x.notnull().mean() * 100)"
   ]
  },
  {
   "cell_type": "code",
   "execution_count": 61,
   "metadata": {
    "colab": {
     "base_uri": "https://localhost:8080/",
     "height": 698
    },
    "id": "-Tg5RWEfZ41s",
    "outputId": "62f8ee59-3dad-42f1-9550-26e6c58c9460"
   },
   "outputs": [
    {
     "data": {
      "image/png": "[encoded data removed]",
      "text/plain": [
       "<Figure size 1200x800 with 2 Axes>"
      ]
     },
     "metadata": {},
     "output_type": "display_data"
    }
   ],
   "source": [
    "   # en este paso desiñaremos como se compone la figura de heatmap\n",
    "plt.figure(figsize=(12, 8))\n",
    "sns.heatmap(df_comp_2_a.T, annot=False, cmap=\"coolwarm_r\",cbar_kws={'label': 'Porcentaje de datos no-nulos'})\n",
    "plt.title(\"Figura 1. Porcentaje de información disponible por año\")\n",
    "plt.xlabel(\"Año\")\n",
    "plt.xticks(rotation=90, ha='right')\n",
    "plt.ylabel(\"Variables\")\n",
    "plt.yticks(rotation=0)\n",
    "plt.show()"
   ]
  },
  {
   "cell_type": "markdown",
   "metadata": {
    "id": "UBQxNPWN4ox5"
   },
   "source": [
    "####D"
   ]
  },
  {
   "cell_type": "code",
   "execution_count": 62,
   "metadata": {
    "id": "dpIe34Fn4pXE"
   },
   "outputs": [
    {
     "ename": "FileNotFoundError",
     "evalue": "[Errno 2] No such file or directory: 'usu_hogar_T105.dta'",
     "output_type": "error",
     "traceback": [
      "\u001b[1;31m---------------------------------------------------------------------------\u001b[0m",
      "\u001b[1;31mFileNotFoundError\u001b[0m                         Traceback (most recent call last)",
      "Cell \u001b[1;32mIn[62], line 2\u001b[0m\n\u001b[0;32m      1\u001b[0m \u001b[38;5;66;03m# Cargamos las 2 eph de hogares\u001b[39;00m\n\u001b[1;32m----> 2\u001b[0m df_3\u001b[38;5;241m=\u001b[39m pd\u001b[38;5;241m.\u001b[39mread_stata(\u001b[38;5;124m\"\u001b[39m\u001b[38;5;124musu_hogar_T105.dta\u001b[39m\u001b[38;5;124m\"\u001b[39m)\n\u001b[0;32m      3\u001b[0m df_4 \u001b[38;5;241m=\u001b[39m pd\u001b[38;5;241m.\u001b[39mread_excel(\u001b[38;5;124m\"\u001b[39m\u001b[38;5;124musu_hogar_T125.xlsx\u001b[39m\u001b[38;5;124m\"\u001b[39m)\n",
      "File \u001b[1;32m~\\anaconda3\\Lib\\site-packages\\pandas\\io\\stata.py:2109\u001b[0m, in \u001b[0;36mread_stata\u001b[1;34m(filepath_or_buffer, convert_dates, convert_categoricals, index_col, convert_missing, preserve_dtypes, columns, order_categoricals, chunksize, iterator, compression, storage_options)\u001b[0m\n\u001b[0;32m   2106\u001b[0m     \u001b[38;5;28;01mreturn\u001b[39;00m reader\n\u001b[0;32m   2108\u001b[0m \u001b[38;5;28;01mwith\u001b[39;00m reader:\n\u001b[1;32m-> 2109\u001b[0m     \u001b[38;5;28;01mreturn\u001b[39;00m reader\u001b[38;5;241m.\u001b[39mread()\n",
      "File \u001b[1;32m~\\anaconda3\\Lib\\site-packages\\pandas\\io\\stata.py:1683\u001b[0m, in \u001b[0;36mStataReader.read\u001b[1;34m(self, nrows, convert_dates, convert_categoricals, index_col, convert_missing, preserve_dtypes, columns, order_categoricals)\u001b[0m\n\u001b[0;32m   1671\u001b[0m \u001b[38;5;129m@Appender\u001b[39m(_read_method_doc)\n\u001b[0;32m   1672\u001b[0m \u001b[38;5;28;01mdef\u001b[39;00m\u001b[38;5;250m \u001b[39m\u001b[38;5;21mread\u001b[39m(\n\u001b[0;32m   1673\u001b[0m     \u001b[38;5;28mself\u001b[39m,\n\u001b[1;32m   (...)\u001b[0m\n\u001b[0;32m   1681\u001b[0m     order_categoricals: \u001b[38;5;28mbool\u001b[39m \u001b[38;5;241m|\u001b[39m \u001b[38;5;28;01mNone\u001b[39;00m \u001b[38;5;241m=\u001b[39m \u001b[38;5;28;01mNone\u001b[39;00m,\n\u001b[0;32m   1682\u001b[0m ) \u001b[38;5;241m-\u001b[39m\u001b[38;5;241m>\u001b[39m DataFrame:\n\u001b[1;32m-> 1683\u001b[0m     \u001b[38;5;28mself\u001b[39m\u001b[38;5;241m.\u001b[39m_ensure_open()\n\u001b[0;32m   1685\u001b[0m     \u001b[38;5;66;03m# Handle options\u001b[39;00m\n\u001b[0;32m   1686\u001b[0m     \u001b[38;5;28;01mif\u001b[39;00m convert_dates \u001b[38;5;129;01mis\u001b[39;00m \u001b[38;5;28;01mNone\u001b[39;00m:\n",
      "File \u001b[1;32m~\\anaconda3\\Lib\\site-packages\\pandas\\io\\stata.py:1175\u001b[0m, in \u001b[0;36mStataReader._ensure_open\u001b[1;34m(self)\u001b[0m\n\u001b[0;32m   1171\u001b[0m \u001b[38;5;250m\u001b[39m\u001b[38;5;124;03m\"\"\"\u001b[39;00m\n\u001b[0;32m   1172\u001b[0m \u001b[38;5;124;03mEnsure the file has been opened and its header data read.\u001b[39;00m\n\u001b[0;32m   1173\u001b[0m \u001b[38;5;124;03m\"\"\"\u001b[39;00m\n\u001b[0;32m   1174\u001b[0m \u001b[38;5;28;01mif\u001b[39;00m \u001b[38;5;129;01mnot\u001b[39;00m \u001b[38;5;28mhasattr\u001b[39m(\u001b[38;5;28mself\u001b[39m, \u001b[38;5;124m\"\u001b[39m\u001b[38;5;124m_path_or_buf\u001b[39m\u001b[38;5;124m\"\u001b[39m):\n\u001b[1;32m-> 1175\u001b[0m     \u001b[38;5;28mself\u001b[39m\u001b[38;5;241m.\u001b[39m_open_file()\n",
      "File \u001b[1;32m~\\anaconda3\\Lib\\site-packages\\pandas\\io\\stata.py:1188\u001b[0m, in \u001b[0;36mStataReader._open_file\u001b[1;34m(self)\u001b[0m\n\u001b[0;32m   1181\u001b[0m \u001b[38;5;28;01mif\u001b[39;00m \u001b[38;5;129;01mnot\u001b[39;00m \u001b[38;5;28mself\u001b[39m\u001b[38;5;241m.\u001b[39m_entered:\n\u001b[0;32m   1182\u001b[0m     warnings\u001b[38;5;241m.\u001b[39mwarn(\n\u001b[0;32m   1183\u001b[0m         \u001b[38;5;124m\"\u001b[39m\u001b[38;5;124mStataReader is being used without using a context manager. \u001b[39m\u001b[38;5;124m\"\u001b[39m\n\u001b[0;32m   1184\u001b[0m         \u001b[38;5;124m\"\u001b[39m\u001b[38;5;124mUsing StataReader as a context manager is the only supported method.\u001b[39m\u001b[38;5;124m\"\u001b[39m,\n\u001b[0;32m   1185\u001b[0m         \u001b[38;5;167;01mResourceWarning\u001b[39;00m,\n\u001b[0;32m   1186\u001b[0m         stacklevel\u001b[38;5;241m=\u001b[39mfind_stack_level(),\n\u001b[0;32m   1187\u001b[0m     )\n\u001b[1;32m-> 1188\u001b[0m handles \u001b[38;5;241m=\u001b[39m get_handle(\n\u001b[0;32m   1189\u001b[0m     \u001b[38;5;28mself\u001b[39m\u001b[38;5;241m.\u001b[39m_original_path_or_buf,\n\u001b[0;32m   1190\u001b[0m     \u001b[38;5;124m\"\u001b[39m\u001b[38;5;124mrb\u001b[39m\u001b[38;5;124m\"\u001b[39m,\n\u001b[0;32m   1191\u001b[0m     storage_options\u001b[38;5;241m=\u001b[39m\u001b[38;5;28mself\u001b[39m\u001b[38;5;241m.\u001b[39m_storage_options,\n\u001b[0;32m   1192\u001b[0m     is_text\u001b[38;5;241m=\u001b[39m\u001b[38;5;28;01mFalse\u001b[39;00m,\n\u001b[0;32m   1193\u001b[0m     compression\u001b[38;5;241m=\u001b[39m\u001b[38;5;28mself\u001b[39m\u001b[38;5;241m.\u001b[39m_compression,\n\u001b[0;32m   1194\u001b[0m )\n\u001b[0;32m   1195\u001b[0m \u001b[38;5;28;01mif\u001b[39;00m \u001b[38;5;28mhasattr\u001b[39m(handles\u001b[38;5;241m.\u001b[39mhandle, \u001b[38;5;124m\"\u001b[39m\u001b[38;5;124mseekable\u001b[39m\u001b[38;5;124m\"\u001b[39m) \u001b[38;5;129;01mand\u001b[39;00m handles\u001b[38;5;241m.\u001b[39mhandle\u001b[38;5;241m.\u001b[39mseekable():\n\u001b[0;32m   1196\u001b[0m     \u001b[38;5;66;03m# If the handle is directly seekable, use it without an extra copy.\u001b[39;00m\n\u001b[0;32m   1197\u001b[0m     \u001b[38;5;28mself\u001b[39m\u001b[38;5;241m.\u001b[39m_path_or_buf \u001b[38;5;241m=\u001b[39m handles\u001b[38;5;241m.\u001b[39mhandle\n",
      "File \u001b[1;32m~\\anaconda3\\Lib\\site-packages\\pandas\\io\\common.py:882\u001b[0m, in \u001b[0;36mget_handle\u001b[1;34m(path_or_buf, mode, encoding, compression, memory_map, is_text, errors, storage_options)\u001b[0m\n\u001b[0;32m    873\u001b[0m         handle \u001b[38;5;241m=\u001b[39m \u001b[38;5;28mopen\u001b[39m(\n\u001b[0;32m    874\u001b[0m             handle,\n\u001b[0;32m    875\u001b[0m             ioargs\u001b[38;5;241m.\u001b[39mmode,\n\u001b[1;32m   (...)\u001b[0m\n\u001b[0;32m    878\u001b[0m             newline\u001b[38;5;241m=\u001b[39m\u001b[38;5;124m\"\u001b[39m\u001b[38;5;124m\"\u001b[39m,\n\u001b[0;32m    879\u001b[0m         )\n\u001b[0;32m    880\u001b[0m     \u001b[38;5;28;01melse\u001b[39;00m:\n\u001b[0;32m    881\u001b[0m         \u001b[38;5;66;03m# Binary mode\u001b[39;00m\n\u001b[1;32m--> 882\u001b[0m         handle \u001b[38;5;241m=\u001b[39m \u001b[38;5;28mopen\u001b[39m(handle, ioargs\u001b[38;5;241m.\u001b[39mmode)\n\u001b[0;32m    883\u001b[0m     handles\u001b[38;5;241m.\u001b[39mappend(handle)\n\u001b[0;32m    885\u001b[0m \u001b[38;5;66;03m# Convert BytesIO or file objects passed with an encoding\u001b[39;00m\n",
      "\u001b[1;31mFileNotFoundError\u001b[0m: [Errno 2] No such file or directory: 'usu_hogar_T105.dta'"
     ]
    }
   ],
   "source": [
    "# Cargamos las 2 eph de hogares\n",
    "df_3= pd.read_stata(\"usu_hogar_T105.dta\")\n",
    "df_4 = pd.read_excel(\"usu_hogar_T125.xlsx\")"
   ]
  },
  {
   "cell_type": "code",
   "execution_count": null,
   "metadata": {
    "id": "_SDBv28C57tD"
   },
   "outputs": [],
   "source": [
    "df_3_a= df_3.copy()\n",
    "df_4_a= df_4.copy()"
   ]
  },
  {
   "cell_type": "code",
   "execution_count": null,
   "metadata": {
    "colab": {
     "base_uri": "https://localhost:8080/"
    },
    "id": "jvdNyddO-9Qr",
    "outputId": "4171594b-744e-4107-972b-3c19fee8c9b6"
   },
   "outputs": [],
   "source": [
    "# Reemplazamos variables categroricas en texto por numero Gran Buenos Aires\n",
    "df_3_a[\"region\"] = df_3_a[\"region\"].replace({\"Gran Buenos Aires\":1})"
   ]
  },
  {
   "cell_type": "code",
   "execution_count": null,
   "metadata": {
    "id": "anemORpr9wd5"
   },
   "outputs": [],
   "source": [
    "# En el tercer df tenemos los nombres en minuscula, por lo cual primero renombramos las columnas de interes a mayuscula\n",
    "df_3_a1=df_3_a.copy() #para no alterar la celda anterior al cambiar los nombres\n",
    "df_3_a1.columns = df_3_a1.columns.str.upper()"
   ]
  },
  {
   "cell_type": "code",
   "execution_count": null,
   "metadata": {
    "id": "iciDDrRX-HfE"
   },
   "outputs": [],
   "source": [
    "# Fitramos unicamente los datos para la región seleccionada\n",
    "df_3_b= df_3_a1[df_3_a1[\"REGION\"] == 1].copy()\n",
    "df_4_b= df_4_a[df_4_a[\"REGION\"] == 1].copy()"
   ]
  },
  {
   "cell_type": "code",
   "execution_count": null,
   "metadata": {
    "id": "UUYOFJOhArYP"
   },
   "outputs": [],
   "source": [
    "# Seleccionamos las 5 variables de interes\n",
    "variables_de_interes_1 = [\"CODUSU\",\"IV1\", \"IV2\", \"IV6\", \"IV8\" , \"II8\"]\n",
    "df_3_c= df_3_b[variables_de_interes_1].copy()\n",
    "df_4_c= df_4_b[variables_de_interes_1].copy()"
   ]
  },
  {
   "cell_type": "code",
   "execution_count": null,
   "metadata": {
    "id": "4ynpqqfCFfEL"
   },
   "outputs": [],
   "source": [
    "# Observamos el tipo de dato almacenado por variable en cada df, para ello armamos un cuadro comparativo\n",
    "    # Tipos de datos por df\n",
    "tipos_df3 = df_3_c.dtypes.astype(str)\n",
    "tipos_df4 = df_4_c.dtypes.astype(str)"
   ]
  },
  {
   "cell_type": "code",
   "execution_count": null,
   "metadata": {
    "id": "4EkJcsk0F9NX"
   },
   "outputs": [],
   "source": [
    "    # Creamos el df comparativo\n",
    "comparativo_datos_1 = pd.DataFrame({\n",
    "    \"df_3_c\": tipos_df3[variables_de_interes_1],\n",
    "    \"df_4_c\": tipos_df4 [variables_de_interes_1]\n",
    "})"
   ]
  },
  {
   "cell_type": "code",
   "execution_count": null,
   "metadata": {
    "colab": {
     "base_uri": "https://localhost:8080/"
    },
    "id": "2t46GWoKGDlm",
    "outputId": "3e8ab78e-a5df-4b15-cc7e-93c131c07ff1"
   },
   "outputs": [],
   "source": [
    "    # Usamos las variables como indices de las filas para leer mas facil\n",
    "comparativo_datos_1= comparativo_datos_1.set_index(pd.Index(variables_de_interes_1))\n",
    "print(comparativo_datos_1)"
   ]
  },
  {
   "cell_type": "code",
   "execution_count": null,
   "metadata": {
    "colab": {
     "base_uri": "https://localhost:8080/"
    },
    "id": "PGc46Wu4Cw8-",
    "outputId": "26105318-19ca-4290-a458-79457d32c78b"
   },
   "outputs": [],
   "source": [
    "#observemos que variables unicas hay en cada df\n",
    "for col in df_3_c.columns:\n",
    "    print(f\"Columna '{col}': {df_3_c[col].unique()}\")"
   ]
  },
  {
   "cell_type": "code",
   "execution_count": null,
   "metadata": {
    "colab": {
     "base_uri": "https://localhost:8080/"
    },
    "id": "WyNjFssOC-BA",
    "outputId": "d9b147f6-575d-4698-ebc2-678384c846e9"
   },
   "outputs": [],
   "source": [
    "#observemos que variables unicas hay en cada df\n",
    "for col in df_4_c.columns:\n",
    "    print(f\"Columna '{col}': {df_4_c[col].unique()}\")"
   ]
  },
  {
   "cell_type": "code",
   "execution_count": null,
   "metadata": {
    "id": "znyaLeqCIabR"
   },
   "outputs": [],
   "source": [
    "#copia para no alterara el df anterior\n",
    "df_3_c_1= df_3_c.copy()\n",
    "df_4_c_1= df_4_c.copy()"
   ]
  },
  {
   "cell_type": "code",
   "execution_count": null,
   "metadata": {
    "colab": {
     "base_uri": "https://localhost:8080/"
    },
    "id": "3tBl7CELFH6A",
    "outputId": "ab13dc48-5438-4320-825e-acf2b22eed7f"
   },
   "outputs": [],
   "source": [
    "# Reemplazamos variables categroricas en texto por numero en el df3 y unificar los df en un solo tipo de varible\n",
    "df_3_c_1[\"IV1\"] = df_3_c_1[\"IV1\"].replace({'Departamento':2, 'Casa':1, 'Pieza en hotel/pensión':4, 'Pieza de inquilinato':3, 'Otro':6, 'Local no construido para habitación':5})\n",
    "df_3_c_1['IV2']=  df_3_c_1['IV2'].replace({'Ns./Nr.':0})\n",
    "df_3_c_1['IV6']=  df_3_c_1['IV6'].replace({'Ns./Nr.':0,'Por cañería dentro de la vivienda':1, 'Fuera de la vivienda pero dentro del terreno':2, 'Fuera del terreno':3})\n",
    "df_3_c_1['IV8']=  df_3_c_1['IV8'].replace({'Ns./Nr.':0,'No':2, 'Sí':1})\n",
    "df_3_c_1['II8']=  df_3_c_1['II8'].replace({'Ns./Nr.':0,'Gas de red':1, 'Gas de tubo/garrafa':2, 'Ns./Nr.':0, 'Otro':4, 'Kerosene/leña/carbón':3})\n"
   ]
  },
  {
   "cell_type": "code",
   "execution_count": null,
   "metadata": {
    "id": "fKIAfTZcMJhM"
   },
   "outputs": [],
   "source": [
    "# Compatibilizamos los tipos de datos en ambas variables\n",
    "    # IV1: pasamos los datos de df_3 a str\n",
    "df_3_c_1[\"IV1\"] =df_3_c_1[\"IV1\"].astype(int)\n",
    "    # IV2: pasamos los datos de df_3 a int64\n",
    "df_3_c_1[\"IV2\"] =df_3_c_1[\"IV2\"].astype(int)\n",
    "    # IV6: pasamos los datos de df_3 a int64\n",
    "df_3_c_1[\"IV6\"] =df_3_c_1[\"IV6\"].astype(int)\n",
    "    # IV8: pasamos los datos de df_3 a int64\n",
    "df_3_c_1[\"IV8\"] =df_3_c_1[\"IV8\"].astype(int)\n",
    "    # II8: pasamos los datos de df_3 a int64\n",
    "df_3_c_1[\"II8\"] =df_3_c_1[\"II8\"].astype(int)"
   ]
  },
  {
   "cell_type": "code",
   "execution_count": null,
   "metadata": {
    "id": "UJgqbctRNoRe"
   },
   "outputs": [],
   "source": [
    "tipos_df3_1 = df_3_c_1.dtypes.astype(str)\n",
    "tipos_df4_1= df_4_c_1.dtypes.astype(str)"
   ]
  },
  {
   "cell_type": "code",
   "execution_count": null,
   "metadata": {
    "id": "rQr3NoftNrN2"
   },
   "outputs": [],
   "source": [
    "   # Creamos el df comparativo\n",
    "comparativo_datos_1_a = pd.DataFrame({\n",
    "    \"df_3_c_1\": tipos_df3_1[variables_de_interes_1],\n",
    "    \"df_4_c_1\": tipos_df4_1[variables_de_interes_1]\n",
    "})"
   ]
  },
  {
   "cell_type": "code",
   "execution_count": null,
   "metadata": {
    "colab": {
     "base_uri": "https://localhost:8080/"
    },
    "id": "EgDa06-HNuYX",
    "outputId": "96650d6f-9cce-457f-9049-eda58c6af167"
   },
   "outputs": [],
   "source": [
    "    # Usamos las variables como indices de las filas para leer mas facil\n",
    "comparativo_datos_1_a= comparativo_datos_1_a.set_index(pd.Index(variables_de_interes_1))\n",
    "print(comparativo_datos_1_a)"
   ]
  },
  {
   "cell_type": "code",
   "execution_count": null,
   "metadata": {
    "colab": {
     "base_uri": "https://localhost:8080/",
     "height": 441
    },
    "id": "SY9pQ7FhQvua",
    "outputId": "8150454a-7fa6-4851-c816-f7815b229a0f"
   },
   "outputs": [],
   "source": [
    "# en este paso adjuntamos al final los datos de las dos base de datos\n",
    "df_comp_hog= pd.concat([df_3_c_1,df_4_c_1])\n",
    "print(df_comp_hog.shape)\n",
    "df_comp_hog"
   ]
  },
  {
   "cell_type": "code",
   "execution_count": null,
   "metadata": {
    "colab": {
     "base_uri": "https://localhost:8080/"
    },
    "id": "OklbQG7mRlvf",
    "outputId": "cee663e4-7e17-4a05-a42d-e521beaa9f89"
   },
   "outputs": [],
   "source": [
    "# Corroboramos que se hayan unido correctamente ambas base\n",
    "print(df_3_c_1.shape)\n",
    "print(df_4_c_1.shape)\n",
    "print(df_comp_hog.shape)"
   ]
  },
  {
   "cell_type": "code",
   "execution_count": null,
   "metadata": {
    "id": "9uE0u9YkbjpO"
   },
   "outputs": [],
   "source": [
    "df_comp_hogs_1= df_comp_hog.copy()"
   ]
  },
  {
   "cell_type": "code",
   "execution_count": null,
   "metadata": {
    "colab": {
     "base_uri": "https://localhost:8080/",
     "height": 423
    },
    "id": "-Le92zwUbLZb",
    "outputId": "d2d310bf-cd4b-4dae-cfbf-5abe5f554ec6"
   },
   "outputs": [],
   "source": [
    "# coregiremos las varibles que tienen volores sinsentido y los tranformaremos NaN, la cuales en la eph se representan como -9,-8,-7,0 y 9\n",
    "vars_interes_h=[\"IV1\", \"IV2\", \"IV6\", \"IV8\" , \"II8\"]\n",
    "df_comp_hogs_1[vars_interes_h] = df_comp_hogs_1[vars_interes_h].replace([0], np.nan)\n",
    "df_comp_hogs_1"
   ]
  },
  {
   "cell_type": "code",
   "execution_count": null,
   "metadata": {
    "id": "F5WK3hpfRvSF"
   },
   "outputs": [],
   "source": [
    "df_comp_indidual= df_comp_2.copy()\n",
    "df_comp_hogar= df_comp_hogs_1.copy()"
   ]
  },
  {
   "cell_type": "code",
   "execution_count": null,
   "metadata": {
    "colab": {
     "base_uri": "https://localhost:8080/"
    },
    "id": "6ytoX6MTSeD8",
    "outputId": "f428f1ce-e2fc-42a5-a711-ee05f7744975"
   },
   "outputs": [],
   "source": [
    "# uniremos las base de datos de individuos con la de hogares\n",
    " #union por intersección\n",
    "df_interseccion = pd.merge(df_comp_indidual,df_comp_hogar ,on=\"CODUSU\", how='inner')\n",
    "print(df_interseccion)"
   ]
  },
  {
   "cell_type": "code",
   "execution_count": null,
   "metadata": {
    "colab": {
     "base_uri": "https://localhost:8080/",
     "height": 443
    },
    "id": "ucO--pllV7Ib",
    "outputId": "d1c6022f-100f-4c5a-ee0d-c81ef80a060b"
   },
   "outputs": [],
   "source": [
    "df_interseccion.drop_duplicates(inplace=True)\n",
    "df_interseccion"
   ]
  },
  {
   "cell_type": "code",
   "execution_count": null,
   "metadata": {
    "colab": {
     "base_uri": "https://localhost:8080/",
     "height": 443
    },
    "id": "RD3bP0dGWq1y",
    "outputId": "50b2af8e-b96f-4b43-c6b7-4e8fac5e93ce"
   },
   "outputs": [],
   "source": [
    "df_interseccion.reset_index(drop=True, inplace=True) # inplace guarda el resultado\n",
    "df_interseccion"
   ]
  },
  {
   "cell_type": "code",
   "execution_count": null,
   "metadata": {
    "colab": {
     "base_uri": "https://localhost:8080/"
    },
    "id": "AXJYEnIde54O",
    "outputId": "ac692bbe-fde5-4167-e267-57df46acbd14"
   },
   "outputs": [],
   "source": [
    "   # ver el totol de Nas\n",
    "   total_nas = df_interseccion.isna().sum().sum()\n",
    "print(\"Total de NAs:\", total_nas)"
   ]
  },
  {
   "cell_type": "code",
   "execution_count": null,
   "metadata": {
    "colab": {
     "base_uri": "https://localhost:8080/"
    },
    "id": "qBdL9qUzcCXZ",
    "outputId": "63ed5184-d778-4d72-c824-394d7affc5e5"
   },
   "outputs": [],
   "source": [
    " #unir por izquierda\n",
    "df_izquierdad = pd.merge(df_comp_indidual,df_comp_hogar ,on=\"CODUSU\", how='left')\n",
    "print(df_izquierdad )"
   ]
  },
  {
   "cell_type": "code",
   "execution_count": null,
   "metadata": {
    "colab": {
     "base_uri": "https://localhost:8080/",
     "height": 443
    },
    "id": "kWmb4mlydV3k",
    "outputId": "ed85b0d1-f3e5-4924-f860-1a2f11d33008"
   },
   "outputs": [],
   "source": [
    "df_izquierdad.reset_index(drop=True, inplace=True) # inplace guarda el resultado\n",
    "df_izquierdad"
   ]
  },
  {
   "cell_type": "code",
   "execution_count": null,
   "metadata": {
    "colab": {
     "base_uri": "https://localhost:8080/"
    },
    "id": "xb4V0FjAf5em",
    "outputId": "e7b9edfd-103f-4dec-b5fb-5dd9f6171d5d"
   },
   "outputs": [],
   "source": [
    "   # ver el totol de Nas\n",
    "   total_nas = df_izquierdad.isna().sum().sum()\n",
    "print(\"Total de NAs:\", total_nas)"
   ]
  },
  {
   "cell_type": "code",
   "execution_count": null,
   "metadata": {
    "colab": {
     "base_uri": "https://localhost:8080/"
    },
    "id": "073c1GHFdgYd",
    "outputId": "f2cfb219-de5c-4fc0-f84e-269a79b6054f"
   },
   "outputs": [],
   "source": [
    "#unir por derecha\n",
    "df_derecha = pd.merge(df_comp_indidual,df_comp_hogar ,on=\"CODUSU\", how='right')\n",
    "print(df_derecha)"
   ]
  },
  {
   "cell_type": "code",
   "execution_count": null,
   "metadata": {
    "colab": {
     "base_uri": "https://localhost:8080/",
     "height": 443
    },
    "id": "TeA_Kq2odlyc",
    "outputId": "b85a1277-1946-45b4-b40d-15d6056fd1aa"
   },
   "outputs": [],
   "source": [
    "df_derecha.reset_index(drop=True, inplace=True) # inplace guarda el resultado\n",
    "df_derecha"
   ]
  },
  {
   "cell_type": "code",
   "execution_count": null,
   "metadata": {
    "colab": {
     "base_uri": "https://localhost:8080/"
    },
    "id": "5JfbLOJ_f_vH",
    "outputId": "58048a6b-76f2-4917-f82a-b62cb998b161"
   },
   "outputs": [],
   "source": [
    "   # ver el totol de Nas\n",
    "   total_nas = df_derecha.isna().sum().sum()\n",
    "print(\"Total de NAs:\", total_nas)"
   ]
  },
  {
   "cell_type": "code",
   "execution_count": null,
   "metadata": {
    "colab": {
     "base_uri": "https://localhost:8080/"
    },
    "id": "BqFlyk4Id2JP",
    "outputId": "d251ff80-336f-43f0-c588-314a055274b6"
   },
   "outputs": [],
   "source": [
    "#union conjunta\n",
    "df_conjunto = pd.merge(df_comp_indidual,df_comp_hogar ,on=\"CODUSU\", how='outer')\n",
    "print(df_conjunto)"
   ]
  },
  {
   "cell_type": "code",
   "execution_count": null,
   "metadata": {
    "colab": {
     "base_uri": "https://localhost:8080/",
     "height": 443
    },
    "id": "nDAYqYcqd75w",
    "outputId": "4256c8ff-9238-4f4b-c2de-61cfdb522b7e"
   },
   "outputs": [],
   "source": [
    "df_conjunto.reset_index(drop=True, inplace=True) # inplace guarda el resultado\n",
    "df_conjunto"
   ]
  },
  {
   "cell_type": "code",
   "execution_count": null,
   "metadata": {
    "colab": {
     "base_uri": "https://localhost:8080/"
    },
    "id": "O3MFAVg_gDlG",
    "outputId": "66cc7c0b-88e9-4b1e-d89d-a9bfc371ddc7"
   },
   "outputs": [],
   "source": [
    "   # ver el totol de Nas\n",
    "   total_nas = df_conjunto.isna().sum().sum()\n",
    "print(\"Total de NAs:\", total_nas)"
   ]
  },
  {
   "cell_type": "markdown",
   "metadata": {
    "id": "_7olLPJRLsfy"
   },
   "source": [
    "##Parte 2"
   ]
  },
  {
   "cell_type": "markdown",
   "metadata": {
    "id": "6aUcjrWKLzSQ"
   },
   "source": [
    "###ejercicio 3"
   ]
  },
  {
   "cell_type": "code",
   "execution_count": null,
   "metadata": {
    "colab": {
     "base_uri": "https://localhost:8080/",
     "height": 0
    },
    "id": "d6753dfa",
    "outputId": "4ee267a3-7d69-4c56-d47a-0be04072d26c"
   },
   "outputs": [],
   "source": [
    "# fusionamos los datos de las dos fuentes de datos originales\n",
    "df_comp = pd.concat([df_1_c, df_2_c])\n",
    "print(df_comp.shape)\n",
    "df_comp"
   ]
  },
  {
   "cell_type": "code",
   "execution_count": null,
   "metadata": {
    "id": "BiaGedUQMQkh"
   },
   "outputs": [],
   "source": []
  },
  {
   "cell_type": "code",
   "execution_count": null,
   "metadata": {
    "colab": {
     "base_uri": "https://localhost:8080/",
     "height": 0
    },
    "id": "a6c83643",
    "outputId": "18cbdd55-d6b6-4caf-8dce-1ed474f823b8"
   },
   "outputs": [],
   "source": [
    "\n",
    "import pandas as pd\n",
    "import matplotlib.pyplot as plt\n",
    "import numpy as np\n",
    "import seaborn as sns\n",
    "\n",
    "# Paso 1: Filtrar los datos para los años 2005 y 2025\n",
    "df_filtered_years = df_comp[df_comp['ANO4'].isin([2005, 2025])].copy()\n",
    "\n",
    "# Paso 2: Asignamos códigos numéricos de sexo a etiquetas descriptivas\n",
    "sex_mapping = {1: 'Varón', 2: 'Mujer'}\n",
    "df_filtered_years['SEXO_DESC'] = df_filtered_years['CH04'].map(sex_mapping)\n",
    "\n",
    "# Paso 3: Agrupamos por año y sexo, y contamos\n",
    "sex_composition = df_filtered_years.groupby(['ANO4', 'SEXO_DESC']).size().unstack(fill_value=0)\n",
    "\n",
    "# Paso 4: Creamos el gráfico de barras\n",
    "fig, ax = plt.subplots(figsize=(10, 6))\n",
    "\n",
    "sex_composition.plot(kind='bar', ax=ax, color=['skyblue', 'lightcoral'])\n",
    "\n",
    "# Agregamos título y etiquetas\n",
    "ax.set_title(\"Figura 2. Composición por sexo en Gran Buenos Aires (2005 vs 2025)\")\n",
    "ax.set_xlabel(\"Año\")\n",
    "ax.set_ylabel(\"Número de Individuos\")\n",
    "ax.tick_params(axis='x', rotation=0)\n",
    "\n",
    "# Añadimos las etiquetas de datos a las barras\n",
    "for container in ax.containers:\n",
    "    ax.bar_label(container, label_type='edge')\n",
    "\n",
    "# agregamos leyenda\n",
    "ax.legend(title=\"Sexo\")\n",
    "\n",
    "\n",
    "\n",
    "plt.tight_layout()\n",
    "plt.show()"
   ]
  },
  {
   "cell_type": "markdown",
   "metadata": {
    "id": "kj-TSXdPTFsc"
   },
   "source": [
    "###ejercicio 4"
   ]
  },
  {
   "cell_type": "code",
   "execution_count": null,
   "metadata": {
    "colab": {
     "base_uri": "https://localhost:8080/",
     "height": 0
    },
    "id": "c30d805a",
    "outputId": "4b84d7c9-d7ae-4411-d16c-15a6570c0889"
   },
   "outputs": [],
   "source": [
    "#Filtramos el marco de datos combinado df_comp para incluir solo los años 2005 y 2025.\n",
    "\n",
    "df_filtered_years = df_comp[df_comp['ANO4'].isin([2005, 2025])].copy()\n",
    "display(df_filtered_years.head())"
   ]
  },
  {
   "cell_type": "code",
   "execution_count": null,
   "metadata": {
    "colab": {
     "base_uri": "https://localhost:8080/",
     "height": 0
    },
    "id": "9b2eaf72",
    "outputId": "b13dd9a3-0613-4a6d-8397-7efb4a4ad477"
   },
   "outputs": [],
   "source": [
    "#Seleccionamos las variables especificadas ( CH04, CH06, CH07, CH08, NIVEL_ED, ESTADO, CAT_INAC, IPCF) del marco de datos filtrado.\n",
    "\n",
    "correlation_variables = ['CH04', 'CH06', 'CH07', 'CH08', 'NIVEL_ED', 'ESTADO', 'CAT_INAC', 'IPCF']\n",
    "df_correlation_subset = df_filtered_years[correlation_variables].copy()\n",
    "display(df_correlation_subset.head())"
   ]
  },
  {
   "cell_type": "code",
   "execution_count": null,
   "metadata": {
    "colab": {
     "base_uri": "https://localhost:8080/",
     "height": 0
    },
    "id": "233c7aa6",
    "outputId": "42a0c617-23a1-4490-d3b2-d64274284b80"
   },
   "outputs": [],
   "source": [
    "#Creamos variables dummies para las variables categóricas entre las seleccionadas ( CH04, CH07, CH08, NIVEL_ED, ESTADO, CAT_INAC)\n",
    "\n",
    "categorical_cols = ['CH04', 'CH07', 'CH08', 'NIVEL_ED', 'ESTADO', 'CAT_INAC']\n",
    "df_dummies = pd.get_dummies(df_correlation_subset, columns=categorical_cols, drop_first=True)\n",
    "display(df_dummies.head())"
   ]
  },
  {
   "cell_type": "code",
   "execution_count": null,
   "metadata": {
    "colab": {
     "base_uri": "https://localhost:8080/",
     "height": 0
    },
    "id": "cfefe481",
    "outputId": "08a35603-0e4d-4f5a-a577-e5b823925107"
   },
   "outputs": [],
   "source": [
    "#Combinamos variables numéricas y dummies\n",
    "\n",
    "#Concatenamos las variables numéricas ( CH06, IPCF) con las variables dummies almacenadas en df_dummies\n",
    "\n",
    "numerical_cols = ['CH06', 'IPCF']\n",
    "df_numerical = df_correlation_subset[numerical_cols]\n",
    "df_combined = pd.concat([df_numerical, df_dummies], axis=1)\n",
    "display(df_combined.head())"
   ]
  },
  {
   "cell_type": "code",
   "execution_count": null,
   "metadata": {
    "colab": {
     "base_uri": "https://localhost:8080/",
     "height": 0
    },
    "id": "052775ae",
    "outputId": "66e862ec-4fee-4ad4-c191-3e6696f3c738"
   },
   "outputs": [],
   "source": [
    "#Calculamos la matriz de correlación para el marco de datos combinado df_combined.\n",
    "\n",
    "correlation_matrix = df_combined.corr()\n",
    "display(correlation_matrix.head())"
   ]
  },
  {
   "cell_type": "code",
   "execution_count": null,
   "metadata": {
    "colab": {
     "base_uri": "https://localhost:8080/",
     "height": 0
    },
    "id": "b913e255",
    "outputId": "addc3bf0-7e4b-43cd-ee0f-eabcf7c0b537"
   },
   "outputs": [],
   "source": [
    "#Generamos un mapa de calor de la matriz de correlación\n",
    "\n",
    "import matplotlib.pyplot as plt\n",
    "import seaborn as sns\n",
    "plt.figure(figsize=(14, 12))\n",
    "sns.heatmap(correlation_matrix, cmap='coolwarm', annot=False)\n",
    "plt.title(\"Matriz de correlación de variables seleccionadas (2005 y 2025)\")\n",
    "plt.show()"
   ]
  },
  {
   "cell_type": "markdown",
   "metadata": {
    "id": "TYRESTJMMWR0"
   },
   "source": [
    "##Parte 3"
   ]
  },
  {
   "cell_type": "code",
   "execution_count": 161,
   "metadata": {
    "colab": {
     "base_uri": "https://localhost:8080/",
     "height": 391
    },
    "id": "IjhD9X1JS9iT",
    "outputId": "292aa753-e80f-48a4-8fe6-909001dfba9c"
   },
   "outputs": [
    {
     "name": "stdout",
     "output_type": "stream",
     "text": [
      "\n",
      "\n",
      "df_comp shape: (16665, 17)\n",
      "no respondieron shape: (16665, 18)\n",
      "\n",
      "\n",
      "no respondieron shape: (2985, 18)\n",
      "respondieron shape: (13680, 18)\n",
      "\n",
      "\n",
      "coeficientes nulos:  161\n",
      "\n",
      "\n",
      "Base con coeficientes nulos: \n",
      "                               CODUSU  REGION  ANO4  CH04  CH06  CH07  CH08  \\\n",
      "3                           125188         1  2005     2    -1     5     4   \n",
      "38                          127247         1  2005     2    -1     5     1   \n",
      "135                         134746         1  2005     2    -1     5     2   \n",
      "154                         135980         1  2005     1    -1     5     1   \n",
      "322                         145699         1  2005     2    -1     5     2   \n",
      "...                              ...     ...   ...   ...   ...   ...   ...   \n",
      "15296  TQSMNOPVPHJOOMCDEIJAH00872959       1  2025     2    -1     5     4   \n",
      "15612  TQRMNORRXHLNKMCDEIIAD00874236       1  2025     2    -1     5     1   \n",
      "15811  TQRMNOTSTHKOMTCDEIJAH00862382       1  2025     1    -1     5     4   \n",
      "16157  TQRMNORTQHLOSNCDEIJAH00855350       1  2025     1    -1     5     4   \n",
      "16217  TQRMNOPRYHKOLOCDEIJAH00859087       1  2025     1    -1     5     4   \n",
      "\n",
      "       NIVEL_ED  ESTADO  CAT_INAC  PP10A  PP03J  PP04A  P21  P47T       ITF  \\\n",
      "3             7       4         5      0      0      0    0     0       450   \n",
      "38            7       4         5      0      0      0    0     0       700   \n",
      "135           7       4         5      0      0      0    0     0      2800   \n",
      "154           7       4         5      0      0      0    0     0      1235   \n",
      "322           7       4         5      0      0      0    0     0      1560   \n",
      "...         ...     ...       ...    ...    ...    ...  ...   ...       ...   \n",
      "15296         7       4         5      0      9      0    0     0   1150000   \n",
      "15612         7       4         5      0      9      0    0     0  10000000   \n",
      "15811         7       4         5      0      9      0    0     0   1150000   \n",
      "16157         7       4         5      0      9      0    0     0   1062000   \n",
      "16217         7       4         5      0      9      0    0     0    420000   \n",
      "\n",
      "          IPCF  adulto_equiv  \n",
      "3          150           NaN  \n",
      "38         233           NaN  \n",
      "135        700           NaN  \n",
      "154        205           NaN  \n",
      "322        260           NaN  \n",
      "...        ...           ...  \n",
      "15296   191666           NaN  \n",
      "15612  2000000           NaN  \n",
      "15811   287500           NaN  \n",
      "16157   212400           NaN  \n",
      "16217   140000           NaN  \n",
      "\n",
      "[161 rows x 18 columns]\n",
      "\n",
      "\n",
      "coeficientes nulos:  0\n",
      "respondieron shape: (12866, 18)\n",
      "\n",
      "\n",
      "Cantidad y porcentaje de personas y hogares pobres en 2005 y 2025\n",
      "\n",
      "\n",
      "      Total Personas  Porcentaje Personas  Total Hogares  Porcentaje Hogares\n",
      "2005            2170                25.02          483.0               17.60\n",
      "2025            1275                30.42          363.0               22.22\n",
      "\n",
      "\n",
      "\n",
      "\n",
      "\n",
      "\n",
      "Comparación entre individuos catalogados como pobres en 2005 y 2025\n",
      "\n",
      "\n",
      "                                    2005   2025\n",
      "Feminización                        0.53   0.54\n",
      "Edad Promedio                      26.37  28.77\n",
      "Estado Civil (Moda)                 5.00   5.00\n",
      "Cobertura Médica (Moda)             4.00   4.00\n",
      "Nivel Educativo (Moda)              1.00   3.00\n",
      "Estado Ocupación (Moda)             3.00   3.00\n",
      "Categoría Inactividad (Moda)        3.00   3.00\n",
      "Tiempo en Busca de Trabajo (Moda)   2.00   5.00\n",
      "Busca Otra Ocupación (Moda)         2.00   9.00\n",
      "Estatal o Privada (Moda)            2.00   2.00\n",
      "Personas por Hogar                  4.39   3.51\n",
      "Feminización promedio del Hogar     0.54   0.52\n",
      "Edad promedio del Hogar            30.50  32.75\n"
     ]
    },
    {
     "name": "stderr",
     "output_type": "stream",
     "text": [
      "C:\\Users\\ADOLFO\\AppData\\Local\\Temp\\ipykernel_3824\\2571746886.py:70: FutureWarning: Setting an item of incompatible dtype is deprecated and will raise an error in a future version of pandas. Value '[151.7518 137.3969 881.801  ... 674.6803 674.6803 674.6803]' has dtype incompatible with int64, please explicitly cast to a compatible dtype first.\n",
      "  respondieron.loc[respondieron['ANO4'] == 2005, 'ingreso_necesario'] = (cbt2005 * respondieron.loc[respondieron['ANO4'] == 2005, 'ad_equiv_hogar'])\n"
     ]
    },
    {
     "data": {
      "image/png": "[encoded data removed]",
      "text/plain": [
       "<Figure size 1000x600 with 1 Axes>"
      ]
     },
     "metadata": {},
     "output_type": "display_data"
    },
    {
     "data": {
      "image/png": "[encoded data removed]",
      "text/plain": [
       "<Figure size 1000x600 with 1 Axes>"
      ]
     },
     "metadata": {},
     "output_type": "display_data"
    },
    {
     "name": "stderr",
     "output_type": "stream",
     "text": [
      "C:\\Users\\ADOLFO\\AppData\\Local\\Temp\\ipykernel_3824\\2571746886.py:227: FutureWarning: The default of observed=False is deprecated and will be changed to True in a future version of pandas. Pass observed=False to retain current behavior or observed=True to adopt the future default and silence this warning.\n",
      "  resumen2 = ((respondieron[respondieron['ANO4'] == 2005].groupby(['rango_edad', 'pobre'])['activo'].mean() * 100).reset_index())# guardamos un df agrupando por los rangos de edad, para pobres y no pobres y calculamos el promedio de activos\n"
     ]
    },
    {
     "data": {
      "image/png": "[encoded data removed]",
      "text/plain": [
       "<Figure size 1400x600 with 1 Axes>"
      ]
     },
     "metadata": {},
     "output_type": "display_data"
    },
    {
     "name": "stderr",
     "output_type": "stream",
     "text": [
      "C:\\Users\\ADOLFO\\AppData\\Local\\Temp\\ipykernel_3824\\2571746886.py:259: FutureWarning: The default of observed=False is deprecated and will be changed to True in a future version of pandas. Pass observed=False to retain current behavior or observed=True to adopt the future default and silence this warning.\n",
      "  resumen3 = ((respondieron[respondieron['ANO4'] == 2025].groupby(['rango_edad', 'pobre'])['activo'].mean() * 100).reset_index())# guardamos un df agrupando por los rangos de edad, para pobres y no pobres y calculamos el promedio de activos\n"
     ]
    },
    {
     "data": {
      "image/png": "[encoded data removed]",
      "text/plain": [
       "<Figure size 1400x600 with 1 Axes>"
      ]
     },
     "metadata": {},
     "output_type": "display_data"
    }
   ],
   "source": [
    "# Cargamos los datos de la tabla de adulto equivalente\n",
    "adult_equiv = pd.read_excel(\"tabla_adulto_equiv.xlsx\")\n",
    "# Nos quedamos con las filas que contienen los datos utiles\n",
    "adult_equiv1 = adult_equiv.loc[4:26].reset_index(drop=True)\n",
    "# Armamos la variable para realizar la equivalencia entre la base de la eph y los coeficientes de la tabla de adulto equivalente\n",
    "adult_equiv1[\"edad\"] = adult_equiv1[\"Tabla de equivalencias de necesidades energéticas. Unidades de adulto equivalente, según sexo y edad\"].str[:2] # Extraemos la edad\n",
    "adult_equiv1.at[0, \"edad\"] = 0 # Corregimos a mano los valores que hacen falta\n",
    "adult_equiv1.at[1, \"edad\"] = 1\n",
    "adult_equiv1.at[22, \"edad\"] = 76\n",
    "adult_equiv1 = adult_equiv1.rename(columns={\"Unnamed: 1\": \"coef_ch04_2\",\"Unnamed: 2\": \"coef_ch04_1\"})\n",
    "adult_equiv1['edad'] = adult_equiv1['edad'].astype(int) # Cambiamos el tipo de dato\n",
    "adult_equiv1[\"edad1\"] = adult_equiv1[\"edad\"].shift(-1, fill_value=121) -1 # Columna auxiliar \n",
    "# Creamos una tabla con todas las edades y los coeficientes asociados para varón y mujer\n",
    "rows = []\n",
    "for _, row in adult_equiv1.iterrows():\n",
    "    for edad in range(int(row[\"edad\"]), int(row[\"edad1\"]) + 1):\n",
    "        rows.append({\n",
    "            \"edad\": edad,\n",
    "            \"coef_ch04_2\": row[\"coef_ch04_2\"],\n",
    "            \"coef_ch04_1\": row[\"coef_ch04_1\"]\n",
    "        })\n",
    "equivalencia = pd.DataFrame(rows) \n",
    "equivalencia_largo = pd.concat([ # Pivotamos la tabla y renombramos las columnas para que coincida con df_comp\n",
    "    equivalencia[[\"edad\", \"coef_ch04_1\"]].rename(columns={\"coef_ch04_1\": \"adulto_equiv\"}).assign(CH04=1),\n",
    "    equivalencia[[\"edad\", \"coef_ch04_2\"]].rename(columns={\"coef_ch04_2\": \"adulto_equiv\"}).assign(CH04=2)\n",
    "], ignore_index=True) \n",
    "equivalencia_largo.rename(columns={\"edad\": \"CH06\"}, inplace=True)\n",
    "\n",
    "# Realizamos la unión de los datos de la eph con los coeficientes correspondientes\n",
    "df_comp1 = df_comp.merge(\n",
    "    equivalencia_largo,\n",
    "    how=\"left\",\n",
    "    on=[\"CH06\", \"CH04\"]\n",
    ")\n",
    "# Comprobamos que la unión se haya realizado correctamente\n",
    "print(\"\\n\")\n",
    "print(\"df_comp shape:\", df_comp.shape)\n",
    "print(\"no respondieron shape:\", df_comp1.shape)\n",
    "\n",
    "### FALTA DE RESPUESTA \n",
    "# Separamos la base de datos entre los que respondieron y no respondieron ingreso familiar \n",
    "norespondieron = df_comp1[df_comp1[\"ITF\"] == 0]\n",
    "print(\"\\n\")\n",
    "print(\"no respondieron shape:\",norespondieron.shape)\n",
    "respondieron = df_comp1[df_comp1[\"ITF\"] != 0]\n",
    "print(\"respondieron shape:\", respondieron.shape)\n",
    "# Continuamos trabajando con la base respondieron\n",
    "\n",
    "### MEDICIÓN DE POBREZA\n",
    "# Vemos si tenemos coeficientes faltantes para algunas observaciones\n",
    "print(\"\\n\")\n",
    "print(\"coeficientes nulos: \", respondieron[\"adulto_equiv\"].isna().sum())\n",
    "print(\"\\n\")\n",
    "print(\"Base con coeficientes nulos: \\n\", respondieron[respondieron[\"adulto_equiv\"].isna()])\n",
    "# Vemos que existen 161 casos fallidos que se corresponden con un CH06 = -1, utilizado para marcar la ausencia de respuesta\n",
    "res_group_nan = respondieron.groupby(\"CODUSU\")[\"adulto_equiv\"].transform(lambda x: x.isna().any()) # Marcamos los hogares que tienen algún miembro sin coeficiente asociado (máscara booleana)\n",
    "respondieron = respondieron[~res_group_nan] # Nos quedamos con los hogares que no tienen individuos sin coeficiente\n",
    "# Corroboramos que haya funcionado bien\n",
    "print(\"\\n\")\n",
    "print(\"coeficientes nulos: \", respondieron[\"adulto_equiv\"].isna().sum())\n",
    "print(\"respondieron shape:\", respondieron.shape)\n",
    "# Nos quedamos con 12866 observaciones\n",
    "# Creamos la columna que totaliza los adultos equivalentes que componen cada hogar\n",
    "respondieron['ad_equiv_hogar'] = respondieron.groupby(\"CODUSU\")[\"adulto_equiv\"].transform(\"sum\")\n",
    "# Añadimos una columna con los requerimientos monetarios de cada hogar \n",
    "cbt2005 = 205.07 # Canasta básica total\n",
    "cbt2025 = 365177\n",
    "respondieron['ingreso_necesario'] = 0 # Creamos la columna con 0 \n",
    "# Calculamos el ingreso necesario por hogar para 2005 \n",
    "respondieron.loc[respondieron['ANO4'] == 2005, 'ingreso_necesario'] = (cbt2005 * respondieron.loc[respondieron['ANO4'] == 2005, 'ad_equiv_hogar'])\n",
    "# Calculamos el ingreso necesario por hogar para 2025 \n",
    "respondieron.loc[respondieron['ANO4'] == 2025, 'ingreso_necesario'] = (cbt2025 * respondieron.loc[respondieron['ANO4'] == 2025, 'ad_equiv_hogar'])\n",
    "# Creamos una columna que indique 1 si el individuo pertecene a un hogar pobre y 0 en caso contrario \n",
    "respondieron['pobre'] = (respondieron['ITF'] < respondieron['ingreso_necesario']).astype(int) # Primero nos devuelve true o false y lo convertimos a 1-0\n",
    "\n",
    "# Calculamos cantidad de pobres y que porcentaje de la muestra representan (por persona y por hogar)\n",
    "pobres_p_2005= int(respondieron[respondieron['ANO4'] == 2005]['pobre'].sum())\n",
    "pobres_p_2005_porc = round(float(respondieron[respondieron['ANO4'] == 2005]['pobre'].mean())*100,2)\n",
    "pobres_h_2005 = np.ceil(respondieron[respondieron['ANO4'] == 2005].groupby('CODUSU')['pobre'].mean().sum())\n",
    "pobres_h_2005_porc = round(float(respondieron[respondieron['ANO4'] == 2005].groupby('CODUSU')['pobre'].mean().mean())*100,2)\n",
    "\n",
    "pobres_p_2025 = int(respondieron[respondieron['ANO4'] == 2025]['pobre'].sum())\n",
    "pobres_p_2025_porc = round((float(respondieron[respondieron['ANO4'] == 2025]['pobre'].mean())*100),2)\n",
    "pobres_h_2025 = np.ceil(respondieron[respondieron['ANO4'] == 2025].groupby('CODUSU')['pobre'].mean().sum())\n",
    "pobres_h_2025_porc = round(float(respondieron[respondieron['ANO4'] == 2025].groupby('CODUSU')['pobre'].mean().mean())*100,2)\n",
    "\n",
    "# Creamos una tabla de resumen y la mostramos\n",
    "resumen = pd.DataFrame({\n",
    "    \"Total Personas\": [pobres_p_2005, pobres_p_2025 ],\n",
    "    \"Porcentaje Personas\": [pobres_p_2005_porc, pobres_p_2025_porc],\n",
    "    \"Total Hogares\": [pobres_h_2005, pobres_h_2025],\n",
    "    \"Porcentaje Hogares\": [pobres_h_2005_porc, pobres_h_2025_porc]}, \n",
    "    index= respondieron['ANO4'].unique()\n",
    "    )\n",
    "print(\"\\n\")\n",
    "print(\"Cantidad y porcentaje de personas y hogares pobres en 2005 y 2025\")\n",
    "print(\"\\n\")\n",
    "print(resumen)\n",
    "\n",
    "### Estadísticas descriptivos \n",
    "# Bases que contienen los individuos catalogados como pobres en cada año \n",
    "pobres_2005 = respondieron[(respondieron['ANO4'] == 2005) & (respondieron['pobre'] == 1)]\n",
    "pobres_2025 = respondieron[(respondieron['ANO4'] == 2025) & (respondieron['pobre'] == 1)]\n",
    "\n",
    "# Bases con estadísticas descriptivas por hogar\n",
    "h_pobres_2005 = (respondieron[(respondieron['ANO4'] == 2005) & (respondieron['pobre'] == 1)].groupby('CODUSU').agg({\n",
    " 'CH04': 'mean', # si es más de 1.5, mayor promedio de hogares femenizados,\n",
    " 'CH06':'mean', # edad promedio del hogar\n",
    " 'adulto_equiv': 'mean', # adulto equivalente promedio por hogar \n",
    " 'ad_equiv_hogar':'mean', # sumatoria adulto equivalente por hogar promedio\n",
    " 'pobre': 'count'\n",
    "}).reset_index())\n",
    "\n",
    "h_pobres_2025 = (respondieron[(respondieron['ANO4'] == 2025) & (respondieron['pobre'] == 1)].groupby('CODUSU').agg({\n",
    " 'CH04': 'mean', # si es más de 1.5, mayor promedio de hogares femenizados,\n",
    " 'CH06':'mean', # edad promedio del hogar\n",
    " 'adulto_equiv': 'mean', # adulto equivalente promedio por hogar \n",
    " 'ad_equiv_hogar':'mean', # sumatoria adulto equivalente por hogar promedio\n",
    " 'pobre': 'count'\n",
    "}).reset_index())\n",
    "\n",
    "## Creamos las variables para realizar la comparación\n",
    "# Para 2005\n",
    "a1 = round(pobres_2005['CH04'].mean()-1,2) # Promedio - 1 (categorias 1 y 2)\n",
    "a2 = round(pobres_2005['CH06'].mean(),2) # Promedio\n",
    "a3 = int(pobres_2005['CH07'].mode().iloc[0]) # Moda\n",
    "a4 = int(pobres_2005['CH08'].mode().iloc[0]) # Moda\n",
    "a5 = int(pobres_2005['NIVEL_ED'].mode().iloc[0]) # Moda\n",
    "a6 = int(pobres_2005['ESTADO'].mode().iloc[0]) # Moda\n",
    "a7 = int(pobres_2005.loc[~pobres_2005['CAT_INAC'].isin([0]), 'CAT_INAC'].mode().iloc[0]) # Moda solo para inactivos\n",
    "a8 = int(pobres_2005.loc[~pobres_2005['PP10A'].isin([0]), 'PP10A'].mode().iloc[0]) # Moda solo para desocupados\n",
    "a9 = int(pobres_2005.loc[~pobres_2005['PP03J'].isin([0]), 'PP03J'].mode().iloc[0]) # Moda solo para ocupados \n",
    "a10 = int(pobres_2005.loc[~pobres_2005['PP04A'].isin([0]), 'PP04A'].mode().iloc[0]) # Moda solo para ocupados (sobre ocupación principal) \n",
    "a11 = round(h_pobres_2005['pobre'].mean(),2) # Promedio\n",
    "a12 = round(h_pobres_2005['CH04'].mean()-1,2) # Promedio - 1 (categorias 1 y 2) \n",
    "a13 = round(h_pobres_2005['CH06'].mean(),2) # Promedio\n",
    "\n",
    "# Para personas 2025\n",
    "b1 = round(pobres_2025['CH04'].mean()-1,2) # Promedio - 1 (categorias 1 y 2)\n",
    "b2 = round(pobres_2025['CH06'].mean(),2) # Promedio\n",
    "b3 = int(pobres_2025['CH07'].mode().iloc[0]) # Moda\n",
    "b4 = int(pobres_2025['CH08'].mode().iloc[0]) # Moda\n",
    "b5 = int(pobres_2025['NIVEL_ED'].mode().iloc[0]) # Moda\n",
    "b6 = int(pobres_2025['ESTADO'].mode().iloc[0]) # Moda \n",
    "b7 = int(pobres_2025.loc[~pobres_2025['CAT_INAC'].isin([0]), 'CAT_INAC'].mode().iloc[0]) # Moda solo para inactivos\n",
    "b8 = int(pobres_2025.loc[~pobres_2025['PP10A'].isin([0]), 'PP10A'].mode().iloc[0]) # Moda solo para desocupados\n",
    "b9 = int(pobres_2025.loc[~pobres_2025['PP03J'].isin([0]), 'PP03J'].mode().iloc[0]) # Moda solo para ocupados \n",
    "b10 = int(pobres_2025.loc[~pobres_2025['PP04A'].isin([0]), 'PP04A'].mode().iloc[0]) # Moda solo para ocupados (sobre ocupación principal)\n",
    "b11 = round(h_pobres_2025['pobre'].mean(),2) # Promedio\n",
    "b12 = round(h_pobres_2025['CH04'].mean()-1,2) # Promedio - 1 (categorias 1 y 2) \n",
    "b13 = round(h_pobres_2025['CH06'].mean(),2) # Promedio\n",
    "\n",
    "\n",
    "## Creamos el df que vamos a usar para comparar los datos\n",
    "comparacion_años = pd.DataFrame({\n",
    "    \"2005\": [a1,a2,a3,a4,a5,a6,a7,a8,a9,a10,a11,a12,a13],\n",
    "    \"2025\": [b1,b2,b3,b4,b5,b6,b7,b8,b9,b10,b11,b12,b13],\n",
    "}, \n",
    "    index= [\"Feminización\",\"Edad Promedio\",\"Estado Civil (Moda)\",\"Cobertura Médica (Moda)\",\"Nivel Educativo (Moda)\",\"Estado Ocupación (Moda)\",\"Categoría Inactividad (Moda)\",\"Tiempo en Busca de Trabajo (Moda)\",\"Busca Otra Ocupación (Moda)\",\"Estatal o Privada (Moda)\",\"Personas por Hogar\",\"Feminización promedio del Hogar\",\"Edad promedio del Hogar\"]\n",
    "    )\n",
    "\n",
    "print(\"\\n\")\n",
    "print(\"\\n\")\n",
    "print(\"\\n\")\n",
    "print(\"Comparación entre individuos catalogados como pobres en 2005 y 2025\")\n",
    "print(\"\\n\")\n",
    "print(comparacion_años)\n",
    "\n",
    "### Gráficos exploratorios\n",
    "\n",
    "# Realizamos un histograma de la edad de los pobres \n",
    "# Para 2005\n",
    "plt.figure(figsize=(10,6)) # Tamaño del gráfico \n",
    "pobres_2005['CH06'].max() # Devuelve 91, decidimos usar 10 bins de 10 años\n",
    "ax = sns.histplot(pobres_2005['CH06'], bins=np.arange(0, 101, 10),stat='percent', kde=False, color='skyblue', edgecolor='black') # Indicamos el tipo de gráfico (histograma de frecuencia relativa) y cantidad de barras y  \n",
    "plt.xlabel('Edad')\n",
    "plt.ylabel('Porcentaje (%) del total')\n",
    "plt.title('Histograma de edad de los individuos pobres - Año 2005')\n",
    "\n",
    "\n",
    "for p in ax.patches:  # Recorremos cada barra del histograma\n",
    "    height = p.get_height()  # Altura de la barra (porcentaje)\n",
    "    ax.text(\n",
    "        p.get_x() + p.get_width()/2,  # Posición X: centro de la barra\n",
    "        height + 0.5,                 # Posición Y: un poco por encima de la barra\n",
    "        f'{height:.1f}%',             # Texto: altura con 1 decimal y %\n",
    "        ha='center',                  # Centrar horizontalmente\n",
    "        va='bottom',                  # Alineación vertical debajo del texto\n",
    "        fontsize=9                     # Tamaño de letra\n",
    "    )\n",
    "\n",
    "plt.tight_layout()\n",
    "plt.savefig(\"histograma_2005.png\", dpi=300, bbox_inches='tight') # guardamos la figura\n",
    "plt.show()\n",
    "\n",
    "# Para 2025\n",
    "plt.figure(figsize=(10,6)) \n",
    "pobres_2025['CH06'].max() \n",
    "ax = sns.histplot(pobres_2025['CH06'], bins=np.arange(0, 101, 10),stat='percent', kde=False, color='skyblue', edgecolor='black') # Indicamos el tipo de gráfico (histograma de frecuencia relativa) y cantidad de barras y  \n",
    "plt.xlabel('Edad')\n",
    "plt.ylabel('Porcentaje (%) del total')\n",
    "plt.title('Histograma de edad de los individuos pobres - Año 2025')\n",
    "\n",
    "\n",
    "for p in ax.patches:  # agregamos la etiqueta de porcentaje sobre cada barra\n",
    "    height = p.get_height() \n",
    "    ax.text(\n",
    "        p.get_x() + p.get_width()/2,  \n",
    "        height + 0.5,                 \n",
    "        f'{height:.1f}%',             \n",
    "        ha='center',               \n",
    "        va='bottom',             \n",
    "        fontsize=9            \n",
    "    )\n",
    "\n",
    "plt.tight_layout()\n",
    "plt.savefig(\"histograma_2025.png\", dpi=300, bbox_inches='tight')\n",
    "plt.show() \n",
    "\n",
    "## comparamos el porcentaje de la poblacion activa por rango de edad entre pobres y no pobres\n",
    "# Para 2005\n",
    "bins = list(range(0, 101, 5)) # usamos intervalos de edad de 5 años \n",
    "labels = [f\"{b}-{b+4}\" for b in bins[:-1]] # etiquetas de los intervalos \n",
    "respondieron['rango_edad'] = pd.cut(respondieron['CH06'], bins=bins, labels=labels, right=False) # columna que separa las edades en los rangos que creamos\n",
    "respondieron['activo'] = respondieron['ESTADO'].isin([1,2]).astype(int) # asigna a los ocupados y desocupados (1 y 2) como activos\n",
    "\n",
    "resumen2 = ((respondieron[respondieron['ANO4'] == 2005].groupby(['rango_edad', 'pobre'])['activo'].mean() * 100).reset_index())# guardamos un df agrupando por los rangos de edad, para pobres y no pobres y calculamos el promedio de activos \n",
    "\n",
    "plt.figure(figsize=(14,6))\n",
    "ax2 = sns.barplot(\n",
    "    data=resumen2,\n",
    "    x='rango_edad',\n",
    "    y='activo',\n",
    "    hue='pobre', # separa dentro de cada rango de edad a los pobres de los no pobres \n",
    "    palette=['skyblue','salmon']\n",
    ")\n",
    "\n",
    "plt.title(\"Porcentaje de activos por rango de edad y condición de pobreza - Año 2005\")\n",
    "plt.xlabel(\"Rango de Edad\")\n",
    "plt.ylabel(\"Porcentaje de Activos (%)\")\n",
    "plt.xticks(rotation=45)\n",
    "\n",
    "# Cambiamos las etiquetas dummy de pobre por condicion pobre-no pobre\n",
    "handles, labels = ax2.get_legend_handles_labels() \n",
    "label_map = {'0': 'No Pobre', '1': 'Pobre'}\n",
    "new_labels = [label_map.get(lbl, lbl) for lbl in labels]\n",
    "plt.legend(handles, new_labels, title=\"Condición\", loc=\"best\")\n",
    "\n",
    "plt.tight_layout()\n",
    "plt.savefig(\"activos_segun_edad_2005.png\", dpi=300, bbox_inches='tight')\n",
    "plt.show() \n",
    "\n",
    "# Para 2025 \n",
    "bins = list(range(0, 101, 5)) # usamos intervalos de edad de 5 años \n",
    "labels = [f\"{b}-{b+4}\" for b in bins[:-1]] # etiquetas de los intervalos \n",
    "respondieron['rango_edad'] = pd.cut(respondieron['CH06'], bins=bins, labels=labels, right=False) # columna que separa las edades en los rangos que creamos\n",
    "respondieron['activo'] = respondieron['ESTADO'].isin([1,2]).astype(int) # asigna a los ocupados y desocupados (1 y 2) como activos\n",
    "\n",
    "resumen3 = ((respondieron[respondieron['ANO4'] == 2025].groupby(['rango_edad', 'pobre'])['activo'].mean() * 100).reset_index())# guardamos un df agrupando por los rangos de edad, para pobres y no pobres y calculamos el promedio de activos \n",
    "\n",
    "plt.figure(figsize=(14,6))\n",
    "ax3 = sns.barplot(\n",
    "    data=resumen3,\n",
    "    x='rango_edad',\n",
    "    y='activo',\n",
    "    hue='pobre', # separa dentro de cada rango de edad a los pobres de los no pobres \n",
    "    palette=['skyblue','salmon']\n",
    ")\n",
    "\n",
    "plt.title(\"Porcentaje de activos por rango de edad y condición de pobreza - Año 2025\")\n",
    "plt.xlabel(\"Rango de Edad\")\n",
    "plt.ylabel(\"Porcentaje de Activos (%)\")\n",
    "plt.xticks(rotation=45)\n",
    "\n",
    "# Cambiamos las etiquetas dummy de pobre por condicion pobre-no pobre\n",
    "handles, labels = ax3.get_legend_handles_labels() \n",
    "label_map = {'0': 'No Pobre', '1': 'Pobre'}\n",
    "new_labels = [label_map.get(lbl, lbl) for lbl in labels]\n",
    "plt.legend(handles, new_labels, title=\"Condición\", loc=\"best\")\n",
    "\n",
    "plt.tight_layout()\n",
    "plt.savefig(\"activos_segun_edad_2025.png\", dpi=300, bbox_inches='tight')\n",
    "plt.show()"
   ]
  },
  {
   "cell_type": "code",
   "execution_count": null,
   "metadata": {
    "id": "p_Lu8bQfS9iU",
    "scrolled": true
   },
   "outputs": [],
   "source": []
  },
  {
   "cell_type": "code",
   "execution_count": null,
   "metadata": {
    "id": "1kc_j0IeS9iU"
   },
   "outputs": [],
   "source": []
  },
  {
   "cell_type": "code",
   "execution_count": null,
   "metadata": {
    "id": "Y34rXPstS9iU"
   },
   "outputs": [],
   "source": []
  },
  {
   "cell_type": "code",
   "execution_count": null,
   "metadata": {
    "id": "9PviS4uIS9iY"
   },
   "outputs": [],
   "source": []
  },
  {
   "cell_type": "code",
   "execution_count": null,
   "metadata": {
    "id": "50_6onC5S9iZ"
   },
   "outputs": [],
   "source": []
  },
  {
   "cell_type": "code",
   "execution_count": null,
   "metadata": {},
   "outputs": [],
   "source": []
  },
  {
   "cell_type": "code",
   "execution_count": 134,
   "metadata": {},
   "outputs": [
    {
     "data": {
      "text/html": [
       "<div>\n",
       "<style scoped>\n",
       "    .dataframe tbody tr th:only-of-type {\n",
       "        vertical-align: middle;\n",
       "    }\n",
       "\n",
       "    .dataframe tbody tr th {\n",
       "        vertical-align: top;\n",
       "    }\n",
       "\n",
       "    .dataframe thead th {\n",
       "        text-align: right;\n",
       "    }\n",
       "</style>\n",
       "<table border=\"1\" class=\"dataframe\">\n",
       "  <thead>\n",
       "    <tr style=\"text-align: right;\">\n",
       "      <th></th>\n",
       "      <th>Total Personas</th>\n",
       "      <th>Porcentaje Personas</th>\n",
       "      <th>Total Hogares</th>\n",
       "      <th>Porcentaje Hogares</th>\n",
       "    </tr>\n",
       "  </thead>\n",
       "  <tbody>\n",
       "    <tr>\n",
       "      <th>2005</th>\n",
       "      <td>2170</td>\n",
       "      <td>25.02</td>\n",
       "      <td>483.0</td>\n",
       "      <td>17.60</td>\n",
       "    </tr>\n",
       "    <tr>\n",
       "      <th>2025</th>\n",
       "      <td>1275</td>\n",
       "      <td>30.42</td>\n",
       "      <td>363.0</td>\n",
       "      <td>22.22</td>\n",
       "    </tr>\n",
       "  </tbody>\n",
       "</table>\n",
       "</div>"
      ],
      "text/plain": [
       "      Total Personas  Porcentaje Personas  Total Hogares  Porcentaje Hogares\n",
       "2005            2170                25.02          483.0               17.60\n",
       "2025            1275                30.42          363.0               22.22"
      ]
     },
     "execution_count": 134,
     "metadata": {},
     "output_type": "execute_result"
    }
   ],
   "source": [
    "resumen"
   ]
  },
  {
   "cell_type": "code",
   "execution_count": 135,
   "metadata": {},
   "outputs": [
    {
     "data": {
      "text/html": [
       "<div>\n",
       "<style scoped>\n",
       "    .dataframe tbody tr th:only-of-type {\n",
       "        vertical-align: middle;\n",
       "    }\n",
       "\n",
       "    .dataframe tbody tr th {\n",
       "        vertical-align: top;\n",
       "    }\n",
       "\n",
       "    .dataframe thead th {\n",
       "        text-align: right;\n",
       "    }\n",
       "</style>\n",
       "<table border=\"1\" class=\"dataframe\">\n",
       "  <thead>\n",
       "    <tr style=\"text-align: right;\">\n",
       "      <th></th>\n",
       "      <th>2005</th>\n",
       "      <th>2025</th>\n",
       "    </tr>\n",
       "  </thead>\n",
       "  <tbody>\n",
       "    <tr>\n",
       "      <th>Feminización</th>\n",
       "      <td>0.53</td>\n",
       "      <td>0.54</td>\n",
       "    </tr>\n",
       "    <tr>\n",
       "      <th>Edad Promedio</th>\n",
       "      <td>26.37</td>\n",
       "      <td>28.77</td>\n",
       "    </tr>\n",
       "    <tr>\n",
       "      <th>Estado Civil (Moda)</th>\n",
       "      <td>5.00</td>\n",
       "      <td>5.00</td>\n",
       "    </tr>\n",
       "    <tr>\n",
       "      <th>Cobertura Médica (Moda)</th>\n",
       "      <td>4.00</td>\n",
       "      <td>4.00</td>\n",
       "    </tr>\n",
       "    <tr>\n",
       "      <th>Nivel Educativo (Moda)</th>\n",
       "      <td>1.00</td>\n",
       "      <td>3.00</td>\n",
       "    </tr>\n",
       "    <tr>\n",
       "      <th>Estado Ocupación (Moda)</th>\n",
       "      <td>3.00</td>\n",
       "      <td>3.00</td>\n",
       "    </tr>\n",
       "    <tr>\n",
       "      <th>Categoría Inactividad (Moda)</th>\n",
       "      <td>3.00</td>\n",
       "      <td>3.00</td>\n",
       "    </tr>\n",
       "    <tr>\n",
       "      <th>Tiempo en Busca de Trabajo (Moda)</th>\n",
       "      <td>2.00</td>\n",
       "      <td>5.00</td>\n",
       "    </tr>\n",
       "    <tr>\n",
       "      <th>Busca Otra Ocupación (Moda)</th>\n",
       "      <td>2.00</td>\n",
       "      <td>9.00</td>\n",
       "    </tr>\n",
       "    <tr>\n",
       "      <th>Estatal o Privada (Moda)</th>\n",
       "      <td>2.00</td>\n",
       "      <td>2.00</td>\n",
       "    </tr>\n",
       "    <tr>\n",
       "      <th>Personas por Hogar</th>\n",
       "      <td>4.39</td>\n",
       "      <td>3.51</td>\n",
       "    </tr>\n",
       "    <tr>\n",
       "      <th>Feminización promedio del Hogar</th>\n",
       "      <td>0.54</td>\n",
       "      <td>0.52</td>\n",
       "    </tr>\n",
       "    <tr>\n",
       "      <th>Edad promedio del Hogar</th>\n",
       "      <td>30.50</td>\n",
       "      <td>32.75</td>\n",
       "    </tr>\n",
       "  </tbody>\n",
       "</table>\n",
       "</div>"
      ],
      "text/plain": [
       "                                    2005   2025\n",
       "Feminización                        0.53   0.54\n",
       "Edad Promedio                      26.37  28.77\n",
       "Estado Civil (Moda)                 5.00   5.00\n",
       "Cobertura Médica (Moda)             4.00   4.00\n",
       "Nivel Educativo (Moda)              1.00   3.00\n",
       "Estado Ocupación (Moda)             3.00   3.00\n",
       "Categoría Inactividad (Moda)        3.00   3.00\n",
       "Tiempo en Busca de Trabajo (Moda)   2.00   5.00\n",
       "Busca Otra Ocupación (Moda)         2.00   9.00\n",
       "Estatal o Privada (Moda)            2.00   2.00\n",
       "Personas por Hogar                  4.39   3.51\n",
       "Feminización promedio del Hogar     0.54   0.52\n",
       "Edad promedio del Hogar            30.50  32.75"
      ]
     },
     "execution_count": 135,
     "metadata": {},
     "output_type": "execute_result"
    }
   ],
   "source": [
    "comparacion_años"
   ]
  },
  {
   "cell_type": "code",
   "execution_count": null,
   "metadata": {},
   "outputs": [],
   "source": []
  }
 ],
 "metadata": {
  "colab": {
   "collapsed_sections": [
    "_7olLPJRLsfy"
   ],
   "provenance": [],
   "toc_visible": true
  },
  "kernelspec": {
   "display_name": "Python [conda env:base] *",
   "language": "python",
   "name": "conda-base-py"
  },
  "language_info": {
   "codemirror_mode": {
    "name": "ipython",
    "version": 3
   },
   "file_extension": ".py",
   "mimetype": "text/x-python",
   "name": "python",
   "nbconvert_exporter": "python",
   "pygments_lexer": "ipython3",
   "version": "3.13.5"
  }
 },
 "nbformat": 4,
 "nbformat_minor": 4
}
